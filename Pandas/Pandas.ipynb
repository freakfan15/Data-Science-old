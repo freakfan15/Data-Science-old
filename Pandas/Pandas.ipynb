{
 "cells": [
  {
   "cell_type": "markdown",
   "metadata": {},
   "source": [
    "# Pandas\n",
    "## Dataframe- Special object to data in tabular form(rows and coloumns)"
   ]
  },
  {
   "cell_type": "code",
   "execution_count": 3,
   "metadata": {},
   "outputs": [],
   "source": [
    "import numpy as np\n",
    "import pandas as pd"
   ]
  },
  {
   "cell_type": "code",
   "execution_count": 5,
   "metadata": {
    "scrolled": true
   },
   "outputs": [
    {
     "data": {
      "text/plain": [
       "array([29, 71, 99,  5, 31,  3, 38, 54, 40, 36])"
      ]
     },
     "execution_count": 5,
     "metadata": {},
     "output_type": "execute_result"
    }
   ],
   "source": [
    "np.random.randint(1,100,10)"
   ]
  },
  {
   "cell_type": "code",
   "execution_count": 12,
   "metadata": {},
   "outputs": [],
   "source": [
    "# try to create a data frame\n",
    "user_data= {\n",
    "    \"MarksA\":np.random.randint(1,100,5),\n",
    "    \"MarksB\":np.random.randint(50,100,5),\n",
    "    \"MarksC\":np.random.randint(1,100,5),\n",
    "}"
   ]
  },
  {
   "cell_type": "code",
   "execution_count": 13,
   "metadata": {},
   "outputs": [
    {
     "data": {
      "text/plain": [
       "{'MarksA': array([51, 22, 24, 36, 85]),\n",
       " 'MarksB': array([68, 90, 86, 88, 64]),\n",
       " 'MarksC': array([54, 97, 66, 44, 66])}"
      ]
     },
     "execution_count": 13,
     "metadata": {},
     "output_type": "execute_result"
    }
   ],
   "source": [
    "user_data"
   ]
  },
  {
   "cell_type": "code",
   "execution_count": 19,
   "metadata": {},
   "outputs": [
    {
     "name": "stdout",
     "output_type": "stream",
     "text": [
      "   MarksA  MarksB  MarksC\n",
      "0    51.0    68.0    54.0\n",
      "1    22.0    90.0    97.0\n",
      "2    24.0    86.0    66.0\n",
      "3    36.0    88.0    44.0\n",
      "4    85.0    64.0    66.0\n"
     ]
    }
   ],
   "source": [
    "df=pd.DataFrame(user_data, dtype='float32') # only specify datatype if u want to store in some other dtpe other an default\n",
    "print(df)"
   ]
  },
  {
   "cell_type": "code",
   "execution_count": 15,
   "metadata": {},
   "outputs": [
    {
     "data": {
      "text/html": [
       "<div>\n",
       "<style scoped>\n",
       "    .dataframe tbody tr th:only-of-type {\n",
       "        vertical-align: middle;\n",
       "    }\n",
       "\n",
       "    .dataframe tbody tr th {\n",
       "        vertical-align: top;\n",
       "    }\n",
       "\n",
       "    .dataframe thead th {\n",
       "        text-align: right;\n",
       "    }\n",
       "</style>\n",
       "<table border=\"1\" class=\"dataframe\">\n",
       "  <thead>\n",
       "    <tr style=\"text-align: right;\">\n",
       "      <th></th>\n",
       "      <th>MarksA</th>\n",
       "      <th>MarksB</th>\n",
       "      <th>MarksC</th>\n",
       "    </tr>\n",
       "  </thead>\n",
       "  <tbody>\n",
       "    <tr>\n",
       "      <th>0</th>\n",
       "      <td>51</td>\n",
       "      <td>68</td>\n",
       "      <td>54</td>\n",
       "    </tr>\n",
       "    <tr>\n",
       "      <th>1</th>\n",
       "      <td>22</td>\n",
       "      <td>90</td>\n",
       "      <td>97</td>\n",
       "    </tr>\n",
       "    <tr>\n",
       "      <th>2</th>\n",
       "      <td>24</td>\n",
       "      <td>86</td>\n",
       "      <td>66</td>\n",
       "    </tr>\n",
       "  </tbody>\n",
       "</table>\n",
       "</div>"
      ],
      "text/plain": [
       "   MarksA  MarksB  MarksC\n",
       "0      51      68      54\n",
       "1      22      90      97\n",
       "2      24      86      66"
      ]
     },
     "execution_count": 15,
     "metadata": {},
     "output_type": "execute_result"
    }
   ],
   "source": [
    "df.head(n=3)"
   ]
  },
  {
   "cell_type": "code",
   "execution_count": 18,
   "metadata": {},
   "outputs": [
    {
     "data": {
      "text/plain": [
       "Index(['MarksA', 'MarksB', 'MarksC'], dtype='object')"
      ]
     },
     "execution_count": 18,
     "metadata": {},
     "output_type": "execute_result"
    }
   ],
   "source": [
    "print(df.columns)"
   ]
  },
  {
   "cell_type": "code",
   "execution_count": 20,
   "metadata": {},
   "outputs": [],
   "source": [
    "df.to_csv('marks.csv')"
   ]
  },
  {
   "cell_type": "code",
   "execution_count": 23,
   "metadata": {},
   "outputs": [
    {
     "name": "stdout",
     "output_type": "stream",
     "text": [
      "   MarksA  MarksB  MarksC\n",
      "0    51.0    68.0    54.0\n",
      "1    22.0    90.0    97.0\n",
      "2    24.0    86.0    66.0\n",
      "3    36.0    88.0    44.0\n",
      "4    85.0    64.0    66.0\n"
     ]
    }
   ],
   "source": [
    "my_data=pd.read_csv('marks.csv')\n",
    "my_data=my_data.drop(columns=['Unnamed: 0'])\n",
    "print(my_data)"
   ]
  },
  {
   "cell_type": "markdown",
   "metadata": {},
   "source": [
    "# Pandas Basics-2"
   ]
  },
  {
   "cell_type": "code",
   "execution_count": 25,
   "metadata": {},
   "outputs": [
    {
     "data": {
      "text/html": [
       "<div>\n",
       "<style scoped>\n",
       "    .dataframe tbody tr th:only-of-type {\n",
       "        vertical-align: middle;\n",
       "    }\n",
       "\n",
       "    .dataframe tbody tr th {\n",
       "        vertical-align: top;\n",
       "    }\n",
       "\n",
       "    .dataframe thead th {\n",
       "        text-align: right;\n",
       "    }\n",
       "</style>\n",
       "<table border=\"1\" class=\"dataframe\">\n",
       "  <thead>\n",
       "    <tr style=\"text-align: right;\">\n",
       "      <th></th>\n",
       "      <th>MarksA</th>\n",
       "      <th>MarksB</th>\n",
       "      <th>MarksC</th>\n",
       "    </tr>\n",
       "  </thead>\n",
       "  <tbody>\n",
       "    <tr>\n",
       "      <th>count</th>\n",
       "      <td>5.000000</td>\n",
       "      <td>5.000000</td>\n",
       "      <td>5.000000</td>\n",
       "    </tr>\n",
       "    <tr>\n",
       "      <th>mean</th>\n",
       "      <td>43.600000</td>\n",
       "      <td>79.200000</td>\n",
       "      <td>65.400000</td>\n",
       "    </tr>\n",
       "    <tr>\n",
       "      <th>std</th>\n",
       "      <td>25.870833</td>\n",
       "      <td>12.214745</td>\n",
       "      <td>19.919839</td>\n",
       "    </tr>\n",
       "    <tr>\n",
       "      <th>min</th>\n",
       "      <td>22.000000</td>\n",
       "      <td>64.000000</td>\n",
       "      <td>44.000000</td>\n",
       "    </tr>\n",
       "    <tr>\n",
       "      <th>25%</th>\n",
       "      <td>24.000000</td>\n",
       "      <td>68.000000</td>\n",
       "      <td>54.000000</td>\n",
       "    </tr>\n",
       "    <tr>\n",
       "      <th>50%</th>\n",
       "      <td>36.000000</td>\n",
       "      <td>86.000000</td>\n",
       "      <td>66.000000</td>\n",
       "    </tr>\n",
       "    <tr>\n",
       "      <th>75%</th>\n",
       "      <td>51.000000</td>\n",
       "      <td>88.000000</td>\n",
       "      <td>66.000000</td>\n",
       "    </tr>\n",
       "    <tr>\n",
       "      <th>max</th>\n",
       "      <td>85.000000</td>\n",
       "      <td>90.000000</td>\n",
       "      <td>97.000000</td>\n",
       "    </tr>\n",
       "  </tbody>\n",
       "</table>\n",
       "</div>"
      ],
      "text/plain": [
       "          MarksA     MarksB     MarksC\n",
       "count   5.000000   5.000000   5.000000\n",
       "mean   43.600000  79.200000  65.400000\n",
       "std    25.870833  12.214745  19.919839\n",
       "min    22.000000  64.000000  44.000000\n",
       "25%    24.000000  68.000000  54.000000\n",
       "50%    36.000000  86.000000  66.000000\n",
       "75%    51.000000  88.000000  66.000000\n",
       "max    85.000000  90.000000  97.000000"
      ]
     },
     "execution_count": 25,
     "metadata": {},
     "output_type": "execute_result"
    }
   ],
   "source": [
    "my_data.describe()"
   ]
  },
  {
   "cell_type": "code",
   "execution_count": 26,
   "metadata": {},
   "outputs": [
    {
     "data": {
      "text/html": [
       "<div>\n",
       "<style scoped>\n",
       "    .dataframe tbody tr th:only-of-type {\n",
       "        vertical-align: middle;\n",
       "    }\n",
       "\n",
       "    .dataframe tbody tr th {\n",
       "        vertical-align: top;\n",
       "    }\n",
       "\n",
       "    .dataframe thead th {\n",
       "        text-align: right;\n",
       "    }\n",
       "</style>\n",
       "<table border=\"1\" class=\"dataframe\">\n",
       "  <thead>\n",
       "    <tr style=\"text-align: right;\">\n",
       "      <th></th>\n",
       "      <th>MarksA</th>\n",
       "      <th>MarksB</th>\n",
       "      <th>MarksC</th>\n",
       "    </tr>\n",
       "  </thead>\n",
       "  <tbody>\n",
       "    <tr>\n",
       "      <th>2</th>\n",
       "      <td>24.0</td>\n",
       "      <td>86.0</td>\n",
       "      <td>66.0</td>\n",
       "    </tr>\n",
       "    <tr>\n",
       "      <th>3</th>\n",
       "      <td>36.0</td>\n",
       "      <td>88.0</td>\n",
       "      <td>44.0</td>\n",
       "    </tr>\n",
       "    <tr>\n",
       "      <th>4</th>\n",
       "      <td>85.0</td>\n",
       "      <td>64.0</td>\n",
       "      <td>66.0</td>\n",
       "    </tr>\n",
       "  </tbody>\n",
       "</table>\n",
       "</div>"
      ],
      "text/plain": [
       "   MarksA  MarksB  MarksC\n",
       "2    24.0    86.0    66.0\n",
       "3    36.0    88.0    44.0\n",
       "4    85.0    64.0    66.0"
      ]
     },
     "execution_count": 26,
     "metadata": {},
     "output_type": "execute_result"
    }
   ],
   "source": [
    "my_data.tail(n=3) # to access last 3 rows"
   ]
  },
  {
   "cell_type": "code",
   "execution_count": 27,
   "metadata": {},
   "outputs": [
    {
     "data": {
      "text/plain": [
       "MarksA    36.0\n",
       "MarksB    88.0\n",
       "MarksC    44.0\n",
       "Name: 3, dtype: float32"
      ]
     },
     "execution_count": 27,
     "metadata": {},
     "output_type": "execute_result"
    }
   ],
   "source": [
    "#Row\n",
    "df.iloc[3]"
   ]
  },
  {
   "cell_type": "code",
   "execution_count": 29,
   "metadata": {},
   "outputs": [
    {
     "data": {
      "text/plain": [
       "88.0"
      ]
     },
     "execution_count": 29,
     "metadata": {},
     "output_type": "execute_result"
    }
   ],
   "source": [
    "#Row & col\n",
    "df.iloc[3,1]"
   ]
  },
  {
   "cell_type": "code",
   "execution_count": 30,
   "metadata": {},
   "outputs": [
    {
     "data": {
      "text/plain": [
       "88.0"
      ]
     },
     "execution_count": 30,
     "metadata": {},
     "output_type": "execute_result"
    }
   ],
   "source": [
    "df.iloc[3][1]"
   ]
  },
  {
   "cell_type": "code",
   "execution_count": 35,
   "metadata": {},
   "outputs": [
    {
     "data": {
      "text/plain": [
       "44.0"
      ]
     },
     "execution_count": 35,
     "metadata": {},
     "output_type": "execute_result"
    }
   ],
   "source": [
    "idx = df.columns.get_loc('MarksC')\n",
    "idx\n",
    "df.iloc[3,idx]"
   ]
  },
  {
   "cell_type": "code",
   "execution_count": 37,
   "metadata": {},
   "outputs": [
    {
     "data": {
      "text/plain": [
       "MarksB    88.0\n",
       "MarksC    44.0\n",
       "Name: 3, dtype: float32"
      ]
     },
     "execution_count": 37,
     "metadata": {},
     "output_type": "execute_result"
    }
   ],
   "source": [
    "idx = [df.columns.get_loc('MarksB'),df.columns.get_loc('MarksC')]\n",
    "idx\n",
    "df.iloc[3,idx]"
   ]
  },
  {
   "cell_type": "code",
   "execution_count": 38,
   "metadata": {},
   "outputs": [
    {
     "data": {
      "text/html": [
       "<div>\n",
       "<style scoped>\n",
       "    .dataframe tbody tr th:only-of-type {\n",
       "        vertical-align: middle;\n",
       "    }\n",
       "\n",
       "    .dataframe tbody tr th {\n",
       "        vertical-align: top;\n",
       "    }\n",
       "\n",
       "    .dataframe thead th {\n",
       "        text-align: right;\n",
       "    }\n",
       "</style>\n",
       "<table border=\"1\" class=\"dataframe\">\n",
       "  <thead>\n",
       "    <tr style=\"text-align: right;\">\n",
       "      <th></th>\n",
       "      <th>MarksB</th>\n",
       "      <th>MarksC</th>\n",
       "    </tr>\n",
       "  </thead>\n",
       "  <tbody>\n",
       "    <tr>\n",
       "      <th>0</th>\n",
       "      <td>68.0</td>\n",
       "      <td>54.0</td>\n",
       "    </tr>\n",
       "    <tr>\n",
       "      <th>1</th>\n",
       "      <td>90.0</td>\n",
       "      <td>97.0</td>\n",
       "    </tr>\n",
       "    <tr>\n",
       "      <th>2</th>\n",
       "      <td>86.0</td>\n",
       "      <td>66.0</td>\n",
       "    </tr>\n",
       "  </tbody>\n",
       "</table>\n",
       "</div>"
      ],
      "text/plain": [
       "   MarksB  MarksC\n",
       "0    68.0    54.0\n",
       "1    90.0    97.0\n",
       "2    86.0    66.0"
      ]
     },
     "execution_count": 38,
     "metadata": {},
     "output_type": "execute_result"
    }
   ],
   "source": [
    "df.iloc[:3, idx]"
   ]
  },
  {
   "cell_type": "code",
   "execution_count": 39,
   "metadata": {},
   "outputs": [
    {
     "data": {
      "text/html": [
       "<div>\n",
       "<style scoped>\n",
       "    .dataframe tbody tr th:only-of-type {\n",
       "        vertical-align: middle;\n",
       "    }\n",
       "\n",
       "    .dataframe tbody tr th {\n",
       "        vertical-align: top;\n",
       "    }\n",
       "\n",
       "    .dataframe thead th {\n",
       "        text-align: right;\n",
       "    }\n",
       "</style>\n",
       "<table border=\"1\" class=\"dataframe\">\n",
       "  <thead>\n",
       "    <tr style=\"text-align: right;\">\n",
       "      <th></th>\n",
       "      <th>MarksB</th>\n",
       "      <th>MarksC</th>\n",
       "    </tr>\n",
       "  </thead>\n",
       "  <tbody>\n",
       "    <tr>\n",
       "      <th>0</th>\n",
       "      <td>68.0</td>\n",
       "      <td>54.0</td>\n",
       "    </tr>\n",
       "    <tr>\n",
       "      <th>1</th>\n",
       "      <td>90.0</td>\n",
       "      <td>97.0</td>\n",
       "    </tr>\n",
       "    <tr>\n",
       "      <th>2</th>\n",
       "      <td>86.0</td>\n",
       "      <td>66.0</td>\n",
       "    </tr>\n",
       "  </tbody>\n",
       "</table>\n",
       "</div>"
      ],
      "text/plain": [
       "   MarksB  MarksC\n",
       "0    68.0    54.0\n",
       "1    90.0    97.0\n",
       "2    86.0    66.0"
      ]
     },
     "execution_count": 39,
     "metadata": {},
     "output_type": "execute_result"
    }
   ],
   "source": [
    " df.iloc[:3,[1,2]]"
   ]
  },
  {
   "cell_type": "markdown",
   "metadata": {},
   "source": [
    "### Sort your dataframe"
   ]
  },
  {
   "cell_type": "code",
   "execution_count": 41,
   "metadata": {},
   "outputs": [
    {
     "data": {
      "text/html": [
       "<div>\n",
       "<style scoped>\n",
       "    .dataframe tbody tr th:only-of-type {\n",
       "        vertical-align: middle;\n",
       "    }\n",
       "\n",
       "    .dataframe tbody tr th {\n",
       "        vertical-align: top;\n",
       "    }\n",
       "\n",
       "    .dataframe thead th {\n",
       "        text-align: right;\n",
       "    }\n",
       "</style>\n",
       "<table border=\"1\" class=\"dataframe\">\n",
       "  <thead>\n",
       "    <tr style=\"text-align: right;\">\n",
       "      <th></th>\n",
       "      <th>MarksA</th>\n",
       "      <th>MarksB</th>\n",
       "      <th>MarksC</th>\n",
       "    </tr>\n",
       "  </thead>\n",
       "  <tbody>\n",
       "    <tr>\n",
       "      <th>0</th>\n",
       "      <td>51.0</td>\n",
       "      <td>68.0</td>\n",
       "      <td>54.0</td>\n",
       "    </tr>\n",
       "    <tr>\n",
       "      <th>1</th>\n",
       "      <td>22.0</td>\n",
       "      <td>90.0</td>\n",
       "      <td>97.0</td>\n",
       "    </tr>\n",
       "    <tr>\n",
       "      <th>2</th>\n",
       "      <td>24.0</td>\n",
       "      <td>86.0</td>\n",
       "      <td>66.0</td>\n",
       "    </tr>\n",
       "    <tr>\n",
       "      <th>3</th>\n",
       "      <td>36.0</td>\n",
       "      <td>88.0</td>\n",
       "      <td>44.0</td>\n",
       "    </tr>\n",
       "    <tr>\n",
       "      <th>4</th>\n",
       "      <td>85.0</td>\n",
       "      <td>64.0</td>\n",
       "      <td>66.0</td>\n",
       "    </tr>\n",
       "  </tbody>\n",
       "</table>\n",
       "</div>"
      ],
      "text/plain": [
       "   MarksA  MarksB  MarksC\n",
       "0    51.0    68.0    54.0\n",
       "1    22.0    90.0    97.0\n",
       "2    24.0    86.0    66.0\n",
       "3    36.0    88.0    44.0\n",
       "4    85.0    64.0    66.0"
      ]
     },
     "execution_count": 41,
     "metadata": {},
     "output_type": "execute_result"
    }
   ],
   "source": [
    "my_data"
   ]
  },
  {
   "cell_type": "code",
   "execution_count": 47,
   "metadata": {},
   "outputs": [
    {
     "data": {
      "text/html": [
       "<div>\n",
       "<style scoped>\n",
       "    .dataframe tbody tr th:only-of-type {\n",
       "        vertical-align: middle;\n",
       "    }\n",
       "\n",
       "    .dataframe tbody tr th {\n",
       "        vertical-align: top;\n",
       "    }\n",
       "\n",
       "    .dataframe thead th {\n",
       "        text-align: right;\n",
       "    }\n",
       "</style>\n",
       "<table border=\"1\" class=\"dataframe\">\n",
       "  <thead>\n",
       "    <tr style=\"text-align: right;\">\n",
       "      <th></th>\n",
       "      <th>MarksA</th>\n",
       "      <th>MarksB</th>\n",
       "      <th>MarksC</th>\n",
       "    </tr>\n",
       "  </thead>\n",
       "  <tbody>\n",
       "    <tr>\n",
       "      <th>1</th>\n",
       "      <td>22.0</td>\n",
       "      <td>90.0</td>\n",
       "      <td>97.0</td>\n",
       "    </tr>\n",
       "    <tr>\n",
       "      <th>4</th>\n",
       "      <td>85.0</td>\n",
       "      <td>64.0</td>\n",
       "      <td>66.0</td>\n",
       "    </tr>\n",
       "    <tr>\n",
       "      <th>2</th>\n",
       "      <td>24.0</td>\n",
       "      <td>86.0</td>\n",
       "      <td>66.0</td>\n",
       "    </tr>\n",
       "    <tr>\n",
       "      <th>0</th>\n",
       "      <td>51.0</td>\n",
       "      <td>68.0</td>\n",
       "      <td>54.0</td>\n",
       "    </tr>\n",
       "    <tr>\n",
       "      <th>3</th>\n",
       "      <td>36.0</td>\n",
       "      <td>88.0</td>\n",
       "      <td>44.0</td>\n",
       "    </tr>\n",
       "  </tbody>\n",
       "</table>\n",
       "</div>"
      ],
      "text/plain": [
       "   MarksA  MarksB  MarksC\n",
       "1    22.0    90.0    97.0\n",
       "4    85.0    64.0    66.0\n",
       "2    24.0    86.0    66.0\n",
       "0    51.0    68.0    54.0\n",
       "3    36.0    88.0    44.0"
      ]
     },
     "execution_count": 47,
     "metadata": {},
     "output_type": "execute_result"
    }
   ],
   "source": [
    "my_data.sort_values(by=[\"MarksC\",\"MarksA\"],ascending=False) # the guy with more marks in sub C will come first"
   ]
  },
  {
   "cell_type": "code",
   "execution_count": 48,
   "metadata": {},
   "outputs": [],
   "source": [
    "data_array=my_data.values"
   ]
  },
  {
   "cell_type": "code",
   "execution_count": 50,
   "metadata": {},
   "outputs": [
    {
     "name": "stdout",
     "output_type": "stream",
     "text": [
      "<class 'pandas.core.frame.DataFrame'>\n"
     ]
    }
   ],
   "source": [
    "print(type(my_data))"
   ]
  },
  {
   "cell_type": "code",
   "execution_count": 51,
   "metadata": {},
   "outputs": [
    {
     "name": "stdout",
     "output_type": "stream",
     "text": [
      "(5, 3)\n"
     ]
    }
   ],
   "source": [
    "print(my_data.shape)"
   ]
  },
  {
   "cell_type": "code",
   "execution_count": 52,
   "metadata": {},
   "outputs": [
    {
     "name": "stdout",
     "output_type": "stream",
     "text": [
      "[[51. 68. 54.]\n",
      " [22. 90. 97.]\n",
      " [24. 86. 66.]\n",
      " [36. 88. 44.]\n",
      " [85. 64. 66.]]\n"
     ]
    }
   ],
   "source": [
    "print(data_array)"
   ]
  },
  {
   "cell_type": "code",
   "execution_count": 54,
   "metadata": {},
   "outputs": [
    {
     "name": "stdout",
     "output_type": "stream",
     "text": [
      "<class 'numpy.ndarray'>\n"
     ]
    }
   ],
   "source": [
    "print(type(data_array))"
   ]
  },
  {
   "cell_type": "code",
   "execution_count": 55,
   "metadata": {},
   "outputs": [
    {
     "data": {
      "text/plain": [
       "(5, 3)"
      ]
     },
     "execution_count": 55,
     "metadata": {},
     "output_type": "execute_result"
    }
   ],
   "source": [
    "data_array.shape"
   ]
  },
  {
   "cell_type": "code",
   "execution_count": 56,
   "metadata": {},
   "outputs": [
    {
     "data": {
      "text/plain": [
       "66.0"
      ]
     },
     "execution_count": 56,
     "metadata": {},
     "output_type": "execute_result"
    }
   ],
   "source": [
    "data_array[2,2]"
   ]
  },
  {
   "cell_type": "markdown",
   "metadata": {},
   "source": [
    "### Numpy arrays back to DataFrame"
   ]
  },
  {
   "cell_type": "code",
   "execution_count": 60,
   "metadata": {},
   "outputs": [],
   "source": [
    "new_df=pd.DataFrame(data_array, dtype='int32', columns=[\"Physics\", \"Chemistry\", \"Maths\"])"
   ]
  },
  {
   "cell_type": "code",
   "execution_count": 66,
   "metadata": {},
   "outputs": [],
   "source": [
    "new_df.to_csv(\"PCM.csv\", index=False)"
   ]
  },
  {
   "cell_type": "code",
   "execution_count": 67,
   "metadata": {},
   "outputs": [],
   "source": [
    "pcm=pd.read_csv('PCM.csv')"
   ]
  },
  {
   "cell_type": "code",
   "execution_count": 68,
   "metadata": {},
   "outputs": [
    {
     "data": {
      "text/html": [
       "<div>\n",
       "<style scoped>\n",
       "    .dataframe tbody tr th:only-of-type {\n",
       "        vertical-align: middle;\n",
       "    }\n",
       "\n",
       "    .dataframe tbody tr th {\n",
       "        vertical-align: top;\n",
       "    }\n",
       "\n",
       "    .dataframe thead th {\n",
       "        text-align: right;\n",
       "    }\n",
       "</style>\n",
       "<table border=\"1\" class=\"dataframe\">\n",
       "  <thead>\n",
       "    <tr style=\"text-align: right;\">\n",
       "      <th></th>\n",
       "      <th>Physics</th>\n",
       "      <th>Chemistry</th>\n",
       "      <th>Maths</th>\n",
       "    </tr>\n",
       "  </thead>\n",
       "  <tbody>\n",
       "    <tr>\n",
       "      <th>0</th>\n",
       "      <td>51</td>\n",
       "      <td>68</td>\n",
       "      <td>54</td>\n",
       "    </tr>\n",
       "    <tr>\n",
       "      <th>1</th>\n",
       "      <td>22</td>\n",
       "      <td>90</td>\n",
       "      <td>97</td>\n",
       "    </tr>\n",
       "    <tr>\n",
       "      <th>2</th>\n",
       "      <td>24</td>\n",
       "      <td>86</td>\n",
       "      <td>66</td>\n",
       "    </tr>\n",
       "    <tr>\n",
       "      <th>3</th>\n",
       "      <td>36</td>\n",
       "      <td>88</td>\n",
       "      <td>44</td>\n",
       "    </tr>\n",
       "    <tr>\n",
       "      <th>4</th>\n",
       "      <td>85</td>\n",
       "      <td>64</td>\n",
       "      <td>66</td>\n",
       "    </tr>\n",
       "  </tbody>\n",
       "</table>\n",
       "</div>"
      ],
      "text/plain": [
       "   Physics  Chemistry  Maths\n",
       "0       51         68     54\n",
       "1       22         90     97\n",
       "2       24         86     66\n",
       "3       36         88     44\n",
       "4       85         64     66"
      ]
     },
     "execution_count": 68,
     "metadata": {},
     "output_type": "execute_result"
    }
   ],
   "source": [
    "pcm"
   ]
  },
  {
   "cell_type": "markdown",
   "metadata": {},
   "source": [
    " # Loading and Visualising MNIST Dataset using Pandas and Matplotlib"
   ]
  },
  {
   "cell_type": "code",
   "execution_count": 70,
   "metadata": {},
   "outputs": [],
   "source": [
    "import pandas as pd\n",
    "import matplotlib.pyplot as plt"
   ]
  },
  {
   "cell_type": "code",
   "execution_count": 73,
   "metadata": {},
   "outputs": [],
   "source": [
    "df=pd.read_csv('mnist_train.csv')"
   ]
  },
  {
   "cell_type": "code",
   "execution_count": 74,
   "metadata": {},
   "outputs": [
    {
     "data": {
      "text/plain": [
       "(59999, 785)"
      ]
     },
     "execution_count": 74,
     "metadata": {},
     "output_type": "execute_result"
    }
   ],
   "source": [
    "df.shape"
   ]
  },
  {
   "cell_type": "code",
   "execution_count": 75,
   "metadata": {},
   "outputs": [
    {
     "data": {
      "text/html": [
       "<div>\n",
       "<style scoped>\n",
       "    .dataframe tbody tr th:only-of-type {\n",
       "        vertical-align: middle;\n",
       "    }\n",
       "\n",
       "    .dataframe tbody tr th {\n",
       "        vertical-align: top;\n",
       "    }\n",
       "\n",
       "    .dataframe thead th {\n",
       "        text-align: right;\n",
       "    }\n",
       "</style>\n",
       "<table border=\"1\" class=\"dataframe\">\n",
       "  <thead>\n",
       "    <tr style=\"text-align: right;\">\n",
       "      <th></th>\n",
       "      <th>5</th>\n",
       "      <th>0</th>\n",
       "      <th>0.1</th>\n",
       "      <th>0.2</th>\n",
       "      <th>0.3</th>\n",
       "      <th>0.4</th>\n",
       "      <th>0.5</th>\n",
       "      <th>0.6</th>\n",
       "      <th>0.7</th>\n",
       "      <th>0.8</th>\n",
       "      <th>...</th>\n",
       "      <th>0.608</th>\n",
       "      <th>0.609</th>\n",
       "      <th>0.610</th>\n",
       "      <th>0.611</th>\n",
       "      <th>0.612</th>\n",
       "      <th>0.613</th>\n",
       "      <th>0.614</th>\n",
       "      <th>0.615</th>\n",
       "      <th>0.616</th>\n",
       "      <th>0.617</th>\n",
       "    </tr>\n",
       "  </thead>\n",
       "  <tbody>\n",
       "    <tr>\n",
       "      <th>0</th>\n",
       "      <td>0</td>\n",
       "      <td>0</td>\n",
       "      <td>0</td>\n",
       "      <td>0</td>\n",
       "      <td>0</td>\n",
       "      <td>0</td>\n",
       "      <td>0</td>\n",
       "      <td>0</td>\n",
       "      <td>0</td>\n",
       "      <td>0</td>\n",
       "      <td>...</td>\n",
       "      <td>0</td>\n",
       "      <td>0</td>\n",
       "      <td>0</td>\n",
       "      <td>0</td>\n",
       "      <td>0</td>\n",
       "      <td>0</td>\n",
       "      <td>0</td>\n",
       "      <td>0</td>\n",
       "      <td>0</td>\n",
       "      <td>0</td>\n",
       "    </tr>\n",
       "    <tr>\n",
       "      <th>1</th>\n",
       "      <td>4</td>\n",
       "      <td>0</td>\n",
       "      <td>0</td>\n",
       "      <td>0</td>\n",
       "      <td>0</td>\n",
       "      <td>0</td>\n",
       "      <td>0</td>\n",
       "      <td>0</td>\n",
       "      <td>0</td>\n",
       "      <td>0</td>\n",
       "      <td>...</td>\n",
       "      <td>0</td>\n",
       "      <td>0</td>\n",
       "      <td>0</td>\n",
       "      <td>0</td>\n",
       "      <td>0</td>\n",
       "      <td>0</td>\n",
       "      <td>0</td>\n",
       "      <td>0</td>\n",
       "      <td>0</td>\n",
       "      <td>0</td>\n",
       "    </tr>\n",
       "    <tr>\n",
       "      <th>2</th>\n",
       "      <td>1</td>\n",
       "      <td>0</td>\n",
       "      <td>0</td>\n",
       "      <td>0</td>\n",
       "      <td>0</td>\n",
       "      <td>0</td>\n",
       "      <td>0</td>\n",
       "      <td>0</td>\n",
       "      <td>0</td>\n",
       "      <td>0</td>\n",
       "      <td>...</td>\n",
       "      <td>0</td>\n",
       "      <td>0</td>\n",
       "      <td>0</td>\n",
       "      <td>0</td>\n",
       "      <td>0</td>\n",
       "      <td>0</td>\n",
       "      <td>0</td>\n",
       "      <td>0</td>\n",
       "      <td>0</td>\n",
       "      <td>0</td>\n",
       "    </tr>\n",
       "    <tr>\n",
       "      <th>3</th>\n",
       "      <td>9</td>\n",
       "      <td>0</td>\n",
       "      <td>0</td>\n",
       "      <td>0</td>\n",
       "      <td>0</td>\n",
       "      <td>0</td>\n",
       "      <td>0</td>\n",
       "      <td>0</td>\n",
       "      <td>0</td>\n",
       "      <td>0</td>\n",
       "      <td>...</td>\n",
       "      <td>0</td>\n",
       "      <td>0</td>\n",
       "      <td>0</td>\n",
       "      <td>0</td>\n",
       "      <td>0</td>\n",
       "      <td>0</td>\n",
       "      <td>0</td>\n",
       "      <td>0</td>\n",
       "      <td>0</td>\n",
       "      <td>0</td>\n",
       "    </tr>\n",
       "    <tr>\n",
       "      <th>4</th>\n",
       "      <td>2</td>\n",
       "      <td>0</td>\n",
       "      <td>0</td>\n",
       "      <td>0</td>\n",
       "      <td>0</td>\n",
       "      <td>0</td>\n",
       "      <td>0</td>\n",
       "      <td>0</td>\n",
       "      <td>0</td>\n",
       "      <td>0</td>\n",
       "      <td>...</td>\n",
       "      <td>0</td>\n",
       "      <td>0</td>\n",
       "      <td>0</td>\n",
       "      <td>0</td>\n",
       "      <td>0</td>\n",
       "      <td>0</td>\n",
       "      <td>0</td>\n",
       "      <td>0</td>\n",
       "      <td>0</td>\n",
       "      <td>0</td>\n",
       "    </tr>\n",
       "  </tbody>\n",
       "</table>\n",
       "<p>5 rows × 785 columns</p>\n",
       "</div>"
      ],
      "text/plain": [
       "   5  0  0.1  0.2  0.3  0.4  0.5  0.6  0.7  0.8  ...  0.608  0.609  0.610  \\\n",
       "0  0  0    0    0    0    0    0    0    0    0  ...      0      0      0   \n",
       "1  4  0    0    0    0    0    0    0    0    0  ...      0      0      0   \n",
       "2  1  0    0    0    0    0    0    0    0    0  ...      0      0      0   \n",
       "3  9  0    0    0    0    0    0    0    0    0  ...      0      0      0   \n",
       "4  2  0    0    0    0    0    0    0    0    0  ...      0      0      0   \n",
       "\n",
       "   0.611  0.612  0.613  0.614  0.615  0.616  0.617  \n",
       "0      0      0      0      0      0      0      0  \n",
       "1      0      0      0      0      0      0      0  \n",
       "2      0      0      0      0      0      0      0  \n",
       "3      0      0      0      0      0      0      0  \n",
       "4      0      0      0      0      0      0      0  \n",
       "\n",
       "[5 rows x 785 columns]"
      ]
     },
     "execution_count": 75,
     "metadata": {},
     "output_type": "execute_result"
    }
   ],
   "source": [
    "df.head(n=5)"
   ]
  },
  {
   "cell_type": "code",
   "execution_count": 77,
   "metadata": {},
   "outputs": [
    {
     "name": "stdout",
     "output_type": "stream",
     "text": [
      "<class 'pandas.core.frame.DataFrame'>\n"
     ]
    }
   ],
   "source": [
    "print(type(df))"
   ]
  },
  {
   "cell_type": "code",
   "execution_count": 78,
   "metadata": {},
   "outputs": [],
   "source": [
    "data=df.values"
   ]
  },
  {
   "cell_type": "code",
   "execution_count": 79,
   "metadata": {},
   "outputs": [
    {
     "data": {
      "text/plain": [
       "array([[0, 0, 0, ..., 0, 0, 0],\n",
       "       [4, 0, 0, ..., 0, 0, 0],\n",
       "       [1, 0, 0, ..., 0, 0, 0],\n",
       "       ...,\n",
       "       [5, 0, 0, ..., 0, 0, 0],\n",
       "       [6, 0, 0, ..., 0, 0, 0],\n",
       "       [8, 0, 0, ..., 0, 0, 0]], dtype=int64)"
      ]
     },
     "execution_count": 79,
     "metadata": {},
     "output_type": "execute_result"
    }
   ],
   "source": [
    "data"
   ]
  },
  {
   "cell_type": "code",
   "execution_count": 80,
   "metadata": {},
   "outputs": [
    {
     "name": "stdout",
     "output_type": "stream",
     "text": [
      "<class 'numpy.ndarray'>\n"
     ]
    }
   ],
   "source": [
    "print(type(data))"
   ]
  },
  {
   "cell_type": "code",
   "execution_count": 81,
   "metadata": {},
   "outputs": [
    {
     "data": {
      "text/plain": [
       "(59999, 785)"
      ]
     },
     "execution_count": 81,
     "metadata": {},
     "output_type": "execute_result"
    }
   ],
   "source": [
    "data.shape"
   ]
  },
  {
   "cell_type": "code",
   "execution_count": 82,
   "metadata": {},
   "outputs": [],
   "source": [
    "X=data[: , 1: ]\n",
    "Y=data[ : , 0]"
   ]
  },
  {
   "cell_type": "code",
   "execution_count": 83,
   "metadata": {},
   "outputs": [
    {
     "name": "stdout",
     "output_type": "stream",
     "text": [
      "(59999, 784) (59999,)\n"
     ]
    }
   ],
   "source": [
    "print(X.shape, Y.shape)"
   ]
  },
  {
   "cell_type": "code",
   "execution_count": 84,
   "metadata": {},
   "outputs": [
    {
     "data": {
      "text/plain": [
       "array([0, 4, 1, ..., 5, 6, 8], dtype=int64)"
      ]
     },
     "execution_count": 84,
     "metadata": {},
     "output_type": "execute_result"
    }
   ],
   "source": [
    "Y"
   ]
  },
  {
   "cell_type": "code",
   "execution_count": 85,
   "metadata": {},
   "outputs": [
    {
     "data": {
      "text/plain": [
       "array([[0, 0, 0, ..., 0, 0, 0],\n",
       "       [0, 0, 0, ..., 0, 0, 0],\n",
       "       [0, 0, 0, ..., 0, 0, 0],\n",
       "       ...,\n",
       "       [0, 0, 0, ..., 0, 0, 0],\n",
       "       [0, 0, 0, ..., 0, 0, 0],\n",
       "       [0, 0, 0, ..., 0, 0, 0]], dtype=int64)"
      ]
     },
     "execution_count": 85,
     "metadata": {},
     "output_type": "execute_result"
    }
   ],
   "source": [
    "X"
   ]
  },
  {
   "cell_type": "code",
   "execution_count": 86,
   "metadata": {},
   "outputs": [],
   "source": [
    "##Visualising one image"
   ]
  },
  {
   "cell_type": "code",
   "execution_count": 98,
   "metadata": {},
   "outputs": [
    {
     "data": {
      "image/png": "[encoded data removed]",
      "text/plain": [
       "<Figure size 432x288 with 1 Axes>"
      ]
     },
     "metadata": {
      "needs_background": "light"
     },
     "output_type": "display_data"
    },
    {
     "data": {
      "image/png": "[encoded data removed]",
      "text/plain": [
       "<Figure size 432x288 with 1 Axes>"
      ]
     },
     "metadata": {
      "needs_background": "light"
     },
     "output_type": "display_data"
    }
   ],
   "source": [
    "def drawImage(X,Y,i):\n",
    "    plt.imshow(X[i].reshape(28,28), cmap='gray')\n",
    "    plt.show()    \n",
    "for i in range(2):\n",
    "    drawImage(X,Y, i)"
   ]
  },
  {
   "cell_type": "code",
   "execution_count": 101,
   "metadata": {},
   "outputs": [],
   "source": [
    "## Split this  datase\n",
    "\n"
   ]
  },
  {
   "cell_type": "markdown",
   "metadata": {},
   "source": [
    "## Making a scatter plot b/w length of movie(x-axis) and frequency of occurrence(y-axis)"
   ]
  },
  {
   "cell_type": "code",
   "execution_count": 103,
   "metadata": {},
   "outputs": [],
   "source": [
    "import pandas as pd\n",
    "import numpy as np\n",
    "import matplotlib.pyplot as plt"
   ]
  },
  {
   "cell_type": "code",
   "execution_count": 104,
   "metadata": {},
   "outputs": [],
   "source": [
    "df=pd.read_csv(\"movie_metadata.csv\")"
   ]
  },
  {
   "cell_type": "code",
   "execution_count": 105,
   "metadata": {},
   "outputs": [
    {
     "data": {
      "text/html": [
       "<div>\n",
       "<style scoped>\n",
       "    .dataframe tbody tr th:only-of-type {\n",
       "        vertical-align: middle;\n",
       "    }\n",
       "\n",
       "    .dataframe tbody tr th {\n",
       "        vertical-align: top;\n",
       "    }\n",
       "\n",
       "    .dataframe thead th {\n",
       "        text-align: right;\n",
       "    }\n",
       "</style>\n",
       "<table border=\"1\" class=\"dataframe\">\n",
       "  <thead>\n",
       "    <tr style=\"text-align: right;\">\n",
       "      <th></th>\n",
       "      <th>color</th>\n",
       "      <th>director_name</th>\n",
       "      <th>num_critic_for_reviews</th>\n",
       "      <th>duration</th>\n",
       "      <th>director_facebook_likes</th>\n",
       "      <th>actor_3_facebook_likes</th>\n",
       "      <th>actor_2_name</th>\n",
       "      <th>actor_1_facebook_likes</th>\n",
       "      <th>gross</th>\n",
       "      <th>genres</th>\n",
       "      <th>...</th>\n",
       "      <th>num_user_for_reviews</th>\n",
       "      <th>language</th>\n",
       "      <th>country</th>\n",
       "      <th>content_rating</th>\n",
       "      <th>budget</th>\n",
       "      <th>title_year</th>\n",
       "      <th>actor_2_facebook_likes</th>\n",
       "      <th>imdb_score</th>\n",
       "      <th>aspect_ratio</th>\n",
       "      <th>movie_facebook_likes</th>\n",
       "    </tr>\n",
       "  </thead>\n",
       "  <tbody>\n",
       "    <tr>\n",
       "      <th>0</th>\n",
       "      <td>Color</td>\n",
       "      <td>James Cameron</td>\n",
       "      <td>723.0</td>\n",
       "      <td>178.0</td>\n",
       "      <td>0.0</td>\n",
       "      <td>855.0</td>\n",
       "      <td>Joel David Moore</td>\n",
       "      <td>1000.0</td>\n",
       "      <td>760505847.0</td>\n",
       "      <td>Action|Adventure|Fantasy|Sci-Fi</td>\n",
       "      <td>...</td>\n",
       "      <td>3054.0</td>\n",
       "      <td>English</td>\n",
       "      <td>USA</td>\n",
       "      <td>PG-13</td>\n",
       "      <td>237000000.0</td>\n",
       "      <td>2009.0</td>\n",
       "      <td>936.0</td>\n",
       "      <td>7.9</td>\n",
       "      <td>1.78</td>\n",
       "      <td>33000</td>\n",
       "    </tr>\n",
       "    <tr>\n",
       "      <th>1</th>\n",
       "      <td>Color</td>\n",
       "      <td>Gore Verbinski</td>\n",
       "      <td>302.0</td>\n",
       "      <td>169.0</td>\n",
       "      <td>563.0</td>\n",
       "      <td>1000.0</td>\n",
       "      <td>Orlando Bloom</td>\n",
       "      <td>40000.0</td>\n",
       "      <td>309404152.0</td>\n",
       "      <td>Action|Adventure|Fantasy</td>\n",
       "      <td>...</td>\n",
       "      <td>1238.0</td>\n",
       "      <td>English</td>\n",
       "      <td>USA</td>\n",
       "      <td>PG-13</td>\n",
       "      <td>300000000.0</td>\n",
       "      <td>2007.0</td>\n",
       "      <td>5000.0</td>\n",
       "      <td>7.1</td>\n",
       "      <td>2.35</td>\n",
       "      <td>0</td>\n",
       "    </tr>\n",
       "    <tr>\n",
       "      <th>2</th>\n",
       "      <td>Color</td>\n",
       "      <td>Sam Mendes</td>\n",
       "      <td>602.0</td>\n",
       "      <td>148.0</td>\n",
       "      <td>0.0</td>\n",
       "      <td>161.0</td>\n",
       "      <td>Rory Kinnear</td>\n",
       "      <td>11000.0</td>\n",
       "      <td>200074175.0</td>\n",
       "      <td>Action|Adventure|Thriller</td>\n",
       "      <td>...</td>\n",
       "      <td>994.0</td>\n",
       "      <td>English</td>\n",
       "      <td>UK</td>\n",
       "      <td>PG-13</td>\n",
       "      <td>245000000.0</td>\n",
       "      <td>2015.0</td>\n",
       "      <td>393.0</td>\n",
       "      <td>6.8</td>\n",
       "      <td>2.35</td>\n",
       "      <td>85000</td>\n",
       "    </tr>\n",
       "    <tr>\n",
       "      <th>3</th>\n",
       "      <td>Color</td>\n",
       "      <td>Christopher Nolan</td>\n",
       "      <td>813.0</td>\n",
       "      <td>164.0</td>\n",
       "      <td>22000.0</td>\n",
       "      <td>23000.0</td>\n",
       "      <td>Christian Bale</td>\n",
       "      <td>27000.0</td>\n",
       "      <td>448130642.0</td>\n",
       "      <td>Action|Thriller</td>\n",
       "      <td>...</td>\n",
       "      <td>2701.0</td>\n",
       "      <td>English</td>\n",
       "      <td>USA</td>\n",
       "      <td>PG-13</td>\n",
       "      <td>250000000.0</td>\n",
       "      <td>2012.0</td>\n",
       "      <td>23000.0</td>\n",
       "      <td>8.5</td>\n",
       "      <td>2.35</td>\n",
       "      <td>164000</td>\n",
       "    </tr>\n",
       "    <tr>\n",
       "      <th>4</th>\n",
       "      <td>NaN</td>\n",
       "      <td>Doug Walker</td>\n",
       "      <td>NaN</td>\n",
       "      <td>NaN</td>\n",
       "      <td>131.0</td>\n",
       "      <td>NaN</td>\n",
       "      <td>Rob Walker</td>\n",
       "      <td>131.0</td>\n",
       "      <td>NaN</td>\n",
       "      <td>Documentary</td>\n",
       "      <td>...</td>\n",
       "      <td>NaN</td>\n",
       "      <td>NaN</td>\n",
       "      <td>NaN</td>\n",
       "      <td>NaN</td>\n",
       "      <td>NaN</td>\n",
       "      <td>NaN</td>\n",
       "      <td>12.0</td>\n",
       "      <td>7.1</td>\n",
       "      <td>NaN</td>\n",
       "      <td>0</td>\n",
       "    </tr>\n",
       "  </tbody>\n",
       "</table>\n",
       "<p>5 rows × 28 columns</p>\n",
       "</div>"
      ],
      "text/plain": [
       "   color      director_name  num_critic_for_reviews  duration  \\\n",
       "0  Color      James Cameron                   723.0     178.0   \n",
       "1  Color     Gore Verbinski                   302.0     169.0   \n",
       "2  Color         Sam Mendes                   602.0     148.0   \n",
       "3  Color  Christopher Nolan                   813.0     164.0   \n",
       "4    NaN        Doug Walker                     NaN       NaN   \n",
       "\n",
       "   director_facebook_likes  actor_3_facebook_likes      actor_2_name  \\\n",
       "0                      0.0                   855.0  Joel David Moore   \n",
       "1                    563.0                  1000.0     Orlando Bloom   \n",
       "2                      0.0                   161.0      Rory Kinnear   \n",
       "3                  22000.0                 23000.0    Christian Bale   \n",
       "4                    131.0                     NaN        Rob Walker   \n",
       "\n",
       "   actor_1_facebook_likes        gross                           genres  ...  \\\n",
       "0                  1000.0  760505847.0  Action|Adventure|Fantasy|Sci-Fi  ...   \n",
       "1                 40000.0  309404152.0         Action|Adventure|Fantasy  ...   \n",
       "2                 11000.0  200074175.0        Action|Adventure|Thriller  ...   \n",
       "3                 27000.0  448130642.0                  Action|Thriller  ...   \n",
       "4                   131.0          NaN                      Documentary  ...   \n",
       "\n",
       "  num_user_for_reviews language  country  content_rating       budget  \\\n",
       "0               3054.0  English      USA           PG-13  237000000.0   \n",
       "1               1238.0  English      USA           PG-13  300000000.0   \n",
       "2                994.0  English       UK           PG-13  245000000.0   \n",
       "3               2701.0  English      USA           PG-13  250000000.0   \n",
       "4                  NaN      NaN      NaN             NaN          NaN   \n",
       "\n",
       "   title_year actor_2_facebook_likes imdb_score  aspect_ratio  \\\n",
       "0      2009.0                  936.0        7.9          1.78   \n",
       "1      2007.0                 5000.0        7.1          2.35   \n",
       "2      2015.0                  393.0        6.8          2.35   \n",
       "3      2012.0                23000.0        8.5          2.35   \n",
       "4         NaN                   12.0        7.1           NaN   \n",
       "\n",
       "  movie_facebook_likes  \n",
       "0                33000  \n",
       "1                    0  \n",
       "2                85000  \n",
       "3               164000  \n",
       "4                    0  \n",
       "\n",
       "[5 rows x 28 columns]"
      ]
     },
     "execution_count": 105,
     "metadata": {},
     "output_type": "execute_result"
    }
   ],
   "source": [
    "df.head()"
   ]
  },
  {
   "cell_type": "code",
   "execution_count": 106,
   "metadata": {},
   "outputs": [],
   "source": [
    "columns=df.columns"
   ]
  },
  {
   "cell_type": "code",
   "execution_count": 107,
   "metadata": {},
   "outputs": [
    {
     "data": {
      "text/plain": [
       "Index(['color', 'director_name', 'num_critic_for_reviews', 'duration',\n",
       "       'director_facebook_likes', 'actor_3_facebook_likes', 'actor_2_name',\n",
       "       'actor_1_facebook_likes', 'gross', 'genres', 'actor_1_name',\n",
       "       'movie_title', 'num_voted_users', 'cast_total_facebook_likes',\n",
       "       'actor_3_name', 'facenumber_in_poster', 'plot_keywords',\n",
       "       'movie_imdb_link', 'num_user_for_reviews', 'language', 'country',\n",
       "       'content_rating', 'budget', 'title_year', 'actor_2_facebook_likes',\n",
       "       'imdb_score', 'aspect_ratio', 'movie_facebook_likes'],\n",
       "      dtype='object')"
      ]
     },
     "execution_count": 107,
     "metadata": {},
     "output_type": "execute_result"
    }
   ],
   "source": [
    "columns"
   ]
  },
  {
   "cell_type": "code",
   "execution_count": 112,
   "metadata": {},
   "outputs": [
    {
     "data": {
      "text/plain": [
       "['Avatar\\xa0',\n",
       " \"Pirates of the Caribbean: At World's End\\xa0\",\n",
       " 'Spectre\\xa0',\n",
       " 'The Dark Knight Rises\\xa0',\n",
       " 'Star Wars: Episode VII - The Force Awakens\\xa0            ',\n",
       " 'John Carter\\xa0',\n",
       " 'Spider-Man 3\\xa0',\n",
       " 'Tangled\\xa0',\n",
       " 'Avengers: Age of Ultron\\xa0',\n",
       " 'Harry Potter and the Half-Blood Prince\\xa0',\n",
       " 'Batman v Superman: Dawn of Justice\\xa0',\n",
       " 'Superman Returns\\xa0',\n",
       " 'Quantum of Solace\\xa0',\n",
       " \"Pirates of the Caribbean: Dead Man's Chest\\xa0\",\n",
       " 'The Lone Ranger\\xa0',\n",
       " 'Man of Steel\\xa0',\n",
       " 'The Chronicles of Narnia: Prince Caspian\\xa0',\n",
       " 'The Avengers\\xa0',\n",
       " 'Pirates of the Caribbean: On Stranger Tides\\xa0',\n",
       " 'Men in Black 3\\xa0',\n",
       " 'The Hobbit: The Battle of the Five Armies\\xa0',\n",
       " 'The Amazing Spider-Man\\xa0',\n",
       " 'Robin Hood\\xa0',\n",
       " 'The Hobbit: The Desolation of Smaug\\xa0',\n",
       " 'The Golden Compass\\xa0',\n",
       " 'King Kong\\xa0',\n",
       " 'Titanic\\xa0',\n",
       " 'Captain America: Civil War\\xa0',\n",
       " 'Battleship\\xa0',\n",
       " 'Jurassic World\\xa0',\n",
       " 'Skyfall\\xa0',\n",
       " 'Spider-Man 2\\xa0',\n",
       " 'Iron Man 3\\xa0',\n",
       " 'Alice in Wonderland\\xa0',\n",
       " 'X-Men: The Last Stand\\xa0',\n",
       " 'Monsters University\\xa0',\n",
       " 'Transformers: Revenge of the Fallen\\xa0',\n",
       " 'Transformers: Age of Extinction\\xa0',\n",
       " 'Oz the Great and Powerful\\xa0',\n",
       " 'The Amazing Spider-Man 2\\xa0',\n",
       " 'TRON: Legacy\\xa0',\n",
       " 'Cars 2\\xa0',\n",
       " 'Green Lantern\\xa0',\n",
       " 'Toy Story 3\\xa0',\n",
       " 'Terminator Salvation\\xa0',\n",
       " 'Furious 7\\xa0',\n",
       " 'World War Z\\xa0',\n",
       " 'X-Men: Days of Future Past\\xa0',\n",
       " 'Star Trek Into Darkness\\xa0',\n",
       " 'Jack the Giant Slayer\\xa0',\n",
       " 'The Great Gatsby\\xa0',\n",
       " 'Prince of Persia: The Sands of Time\\xa0',\n",
       " 'Pacific Rim\\xa0',\n",
       " 'Transformers: Dark of the Moon\\xa0',\n",
       " 'Indiana Jones and the Kingdom of the Crystal Skull\\xa0',\n",
       " 'The Good Dinosaur\\xa0',\n",
       " 'Brave\\xa0',\n",
       " 'Star Trek Beyond\\xa0',\n",
       " 'WALL·E\\xa0',\n",
       " 'Rush Hour 3\\xa0',\n",
       " '2012\\xa0',\n",
       " 'A Christmas Carol\\xa0',\n",
       " 'Jupiter Ascending\\xa0',\n",
       " 'The Legend of Tarzan\\xa0',\n",
       " 'The Chronicles of Narnia: The Lion, the Witch and the Wardrobe\\xa0',\n",
       " 'X-Men: Apocalypse\\xa0',\n",
       " 'The Dark Knight\\xa0',\n",
       " 'Up\\xa0',\n",
       " 'Monsters vs. Aliens\\xa0',\n",
       " 'Iron Man\\xa0',\n",
       " 'Hugo\\xa0',\n",
       " 'Wild Wild West\\xa0',\n",
       " 'The Mummy: Tomb of the Dragon Emperor\\xa0',\n",
       " 'Suicide Squad\\xa0',\n",
       " 'Evan Almighty\\xa0',\n",
       " 'Edge of Tomorrow\\xa0',\n",
       " 'Waterworld\\xa0',\n",
       " 'G.I. Joe: The Rise of Cobra\\xa0',\n",
       " 'Inside Out\\xa0',\n",
       " 'The Jungle Book\\xa0',\n",
       " 'Iron Man 2\\xa0',\n",
       " 'Snow White and the Huntsman\\xa0',\n",
       " 'Maleficent\\xa0',\n",
       " 'Dawn of the Planet of the Apes\\xa0',\n",
       " 'The Lovers\\xa0',\n",
       " '47 Ronin\\xa0',\n",
       " 'Captain America: The Winter Soldier\\xa0',\n",
       " 'Shrek Forever After\\xa0',\n",
       " 'Tomorrowland\\xa0',\n",
       " 'Big Hero 6\\xa0',\n",
       " 'Wreck-It Ralph\\xa0',\n",
       " 'The Polar Express\\xa0',\n",
       " 'Independence Day: Resurgence\\xa0',\n",
       " 'How to Train Your Dragon\\xa0',\n",
       " 'Terminator 3: Rise of the Machines\\xa0',\n",
       " 'Guardians of the Galaxy\\xa0',\n",
       " 'Interstellar\\xa0',\n",
       " 'Inception\\xa0',\n",
       " 'Godzilla Resurgence\\xa0',\n",
       " 'The Hobbit: An Unexpected Journey\\xa0',\n",
       " 'The Fast and the Furious\\xa0',\n",
       " 'The Curious Case of Benjamin Button\\xa0',\n",
       " 'X-Men: First Class\\xa0',\n",
       " 'The Hunger Games: Mockingjay - Part 2\\xa0',\n",
       " \"The Sorcerer's Apprentice\\xa0\",\n",
       " 'Poseidon\\xa0',\n",
       " 'Alice Through the Looking Glass\\xa0',\n",
       " 'Shrek the Third\\xa0',\n",
       " 'Warcraft\\xa0',\n",
       " 'Terminator Genisys\\xa0',\n",
       " 'The Chronicles of Narnia: The Voyage of the Dawn Treader\\xa0',\n",
       " 'Pearl Harbor\\xa0',\n",
       " 'Transformers\\xa0',\n",
       " 'Alexander\\xa0',\n",
       " 'Harry Potter and the Order of the Phoenix\\xa0',\n",
       " 'Harry Potter and the Goblet of Fire\\xa0',\n",
       " 'Hancock\\xa0',\n",
       " 'I Am Legend\\xa0',\n",
       " 'Charlie and the Chocolate Factory\\xa0',\n",
       " 'Ratatouille\\xa0',\n",
       " 'Batman Begins\\xa0',\n",
       " 'Madagascar: Escape 2 Africa\\xa0',\n",
       " 'Night at the Museum: Battle of the Smithsonian\\xa0',\n",
       " 'X-Men Origins: Wolverine\\xa0',\n",
       " 'The Matrix Revolutions\\xa0',\n",
       " 'Frozen\\xa0',\n",
       " 'The Matrix Reloaded\\xa0',\n",
       " 'Thor: The Dark World\\xa0',\n",
       " 'Mad Max: Fury Road\\xa0',\n",
       " 'Angels & Demons\\xa0',\n",
       " 'Thor\\xa0',\n",
       " 'Bolt\\xa0',\n",
       " 'G-Force\\xa0',\n",
       " 'Wrath of the Titans\\xa0',\n",
       " 'Dark Shadows\\xa0',\n",
       " 'Mission: Impossible - Rogue Nation\\xa0',\n",
       " 'The Wolfman\\xa0',\n",
       " 'The Legend of Tarzan\\xa0',\n",
       " 'Bee Movie\\xa0',\n",
       " 'Kung Fu Panda 2\\xa0',\n",
       " 'The Last Airbender\\xa0',\n",
       " 'Mission: Impossible III\\xa0',\n",
       " 'White House Down\\xa0',\n",
       " 'Mars Needs Moms\\xa0',\n",
       " 'Flushed Away\\xa0',\n",
       " 'Pan\\xa0',\n",
       " 'Mr. Peabody & Sherman\\xa0',\n",
       " 'Troy\\xa0',\n",
       " \"Madagascar 3: Europe's Most Wanted\\xa0\",\n",
       " 'Die Another Day\\xa0',\n",
       " 'Ghostbusters\\xa0',\n",
       " 'Armageddon\\xa0',\n",
       " 'Men in Black II\\xa0',\n",
       " 'Beowulf\\xa0',\n",
       " 'Kung Fu Panda 3\\xa0',\n",
       " 'Mission: Impossible - Ghost Protocol\\xa0',\n",
       " 'Rise of the Guardians\\xa0',\n",
       " 'Fun with Dick and Jane\\xa0',\n",
       " 'The Last Samurai\\xa0',\n",
       " 'Exodus: Gods and Kings\\xa0',\n",
       " 'Star Trek\\xa0',\n",
       " 'Spider-Man\\xa0',\n",
       " 'How to Train Your Dragon 2\\xa0',\n",
       " 'Gods of Egypt\\xa0',\n",
       " 'Stealth\\xa0',\n",
       " 'Watchmen\\xa0',\n",
       " 'Lethal Weapon 4\\xa0',\n",
       " 'Hulk\\xa0',\n",
       " 'G.I. Joe: Retaliation\\xa0',\n",
       " 'Sahara\\xa0',\n",
       " 'Final Fantasy: The Spirits Within\\xa0',\n",
       " 'Captain America: The First Avenger\\xa0',\n",
       " 'The World Is Not Enough\\xa0',\n",
       " 'Master and Commander: The Far Side of the World\\xa0',\n",
       " 'The Twilight Saga: Breaking Dawn - Part 2\\xa0',\n",
       " 'Happy Feet 2\\xa0',\n",
       " 'The Incredible Hulk\\xa0',\n",
       " 'Miami Vice\\xa0            ',\n",
       " 'The BFG\\xa0',\n",
       " 'The Revenant\\xa0',\n",
       " 'Turbo\\xa0',\n",
       " 'Rango\\xa0',\n",
       " 'Penguins of Madagascar\\xa0',\n",
       " 'The Bourne Ultimatum\\xa0',\n",
       " 'Kung Fu Panda\\xa0',\n",
       " 'Ant-Man\\xa0',\n",
       " 'The Hunger Games: Catching Fire\\xa0',\n",
       " 'The Twilight Saga: Breaking Dawn - Part 2\\xa0',\n",
       " 'Home\\xa0',\n",
       " 'War of the Worlds\\xa0',\n",
       " 'Bad Boys II\\xa0',\n",
       " 'Puss in Boots\\xa0',\n",
       " 'Salt\\xa0',\n",
       " 'Noah\\xa0',\n",
       " 'The Adventures of Tintin\\xa0',\n",
       " 'Harry Potter and the Prisoner of Azkaban\\xa0',\n",
       " 'Australia\\xa0',\n",
       " 'After Earth\\xa0',\n",
       " 'Dinosaur\\xa0',\n",
       " 'Harry Potter and the Deathly Hallows: Part II\\xa0',\n",
       " 'Night at the Museum: Secret of the Tomb\\xa0',\n",
       " 'Megamind\\xa0',\n",
       " \"Harry Potter and the Sorcerer's Stone\\xa0\",\n",
       " 'R.I.P.D.\\xa0',\n",
       " 'Godzilla Resurgence\\xa0',\n",
       " 'Pirates of the Caribbean: The Curse of the Black Pearl\\xa0',\n",
       " 'Harry Potter and the Deathly Hallows: Part I\\xa0',\n",
       " 'The Hunger Games: Mockingjay - Part 1\\xa0',\n",
       " 'The Da Vinci Code\\xa0',\n",
       " 'Rio 2\\xa0',\n",
       " 'X-Men 2\\xa0',\n",
       " 'Fast Five\\xa0',\n",
       " 'Sherlock Holmes: A Game of Shadows\\xa0',\n",
       " 'Clash of the Titans\\xa0',\n",
       " 'Total Recall\\xa0',\n",
       " 'The 13th Warrior\\xa0',\n",
       " 'The Bourne Legacy\\xa0',\n",
       " 'Batman & Robin\\xa0',\n",
       " 'How the Grinch Stole Christmas\\xa0',\n",
       " 'The Day After Tomorrow\\xa0',\n",
       " 'Mission: Impossible II\\xa0',\n",
       " 'The Perfect Storm\\xa0',\n",
       " 'Fantastic 4: Rise of the Silver Surfer\\xa0',\n",
       " 'Life of Pi\\xa0',\n",
       " 'Ghost Rider\\xa0',\n",
       " 'Jason Bourne\\xa0',\n",
       " \"Charlie's Angels: Full Throttle\\xa0\",\n",
       " 'Prometheus\\xa0',\n",
       " 'Stuart Little 2\\xa0',\n",
       " 'Elysium\\xa0',\n",
       " 'The Chronicles of Riddick\\xa0',\n",
       " 'RoboCop\\xa0',\n",
       " 'Speed Racer\\xa0',\n",
       " 'How Do You Know\\xa0',\n",
       " 'Knight and Day\\xa0',\n",
       " 'Oblivion\\xa0',\n",
       " 'Star Wars: Episode III - Revenge of the Sith\\xa0',\n",
       " 'Star Wars: Episode II - Attack of the Clones\\xa0',\n",
       " 'Monsters, Inc.\\xa0',\n",
       " 'The Wolverine\\xa0',\n",
       " 'Star Wars: Episode I - The Phantom Menace\\xa0',\n",
       " 'The Croods\\xa0',\n",
       " 'Asterix at the Olympic Games\\xa0',\n",
       " 'Windtalkers\\xa0',\n",
       " \"The Huntsman: Winter's War\\xa0\",\n",
       " 'Teenage Mutant Ninja Turtles\\xa0',\n",
       " 'Gravity\\xa0',\n",
       " \"Dante's Peak\\xa0\",\n",
       " 'Teenage Mutant Ninja Turtles: Out of the Shadows\\xa0',\n",
       " 'Fantastic Four\\xa0',\n",
       " 'Night at the Museum\\xa0',\n",
       " 'San Andreas\\xa0',\n",
       " 'Tomorrow Never Dies\\xa0',\n",
       " 'The Patriot\\xa0',\n",
       " \"Ocean's Twelve\\xa0\",\n",
       " 'Mr. & Mrs. Smith\\xa0',\n",
       " 'Insurgent\\xa0',\n",
       " 'The Aviator\\xa0',\n",
       " \"Gulliver's Travels\\xa0\",\n",
       " 'The Green Hornet\\xa0',\n",
       " 'The A-Team\\xa0            ',\n",
       " '300: Rise of an Empire\\xa0',\n",
       " 'The Smurfs\\xa0',\n",
       " 'Home on the Range\\xa0',\n",
       " 'Allegiant\\xa0',\n",
       " 'Real Steel\\xa0',\n",
       " 'The Smurfs 2\\xa0',\n",
       " 'Speed 2: Cruise Control\\xa0',\n",
       " \"Ender's Game\\xa0\",\n",
       " 'Live Free or Die Hard\\xa0',\n",
       " 'The Lord of the Rings: The Fellowship of the Ring\\xa0',\n",
       " 'Around the World in 80 Days\\xa0',\n",
       " 'Ali\\xa0',\n",
       " 'The Cat in the Hat\\xa0',\n",
       " 'I, Robot\\xa0',\n",
       " 'Kingdom of Heaven\\xa0',\n",
       " 'Stuart Little\\xa0',\n",
       " 'The Princess and the Frog\\xa0',\n",
       " 'The Martian\\xa0',\n",
       " '10,000 B.C.\\xa0            ',\n",
       " 'The Island\\xa0',\n",
       " 'Town & Country\\xa0',\n",
       " 'Gone in Sixty Seconds\\xa0',\n",
       " 'Gladiator\\xa0',\n",
       " 'Minority Report\\xa0',\n",
       " 'Harry Potter and the Chamber of Secrets\\xa0',\n",
       " 'Casino Royale\\xa0',\n",
       " 'Planet of the Apes\\xa0',\n",
       " 'Terminator 2: Judgment Day\\xa0',\n",
       " 'Public Enemies\\xa0',\n",
       " 'American Gangster\\xa0',\n",
       " 'True Lies\\xa0',\n",
       " 'The Taking of Pelham 1 2 3\\xa0',\n",
       " 'Little Fockers\\xa0',\n",
       " 'The Other Guys\\xa0',\n",
       " 'Eraser\\xa0',\n",
       " 'Django Unchained\\xa0',\n",
       " 'The Hunchback of Notre Dame\\xa0',\n",
       " \"The Emperor's New Groove\\xa0\",\n",
       " 'The Expendables 2\\xa0',\n",
       " 'National Treasure\\xa0',\n",
       " 'Eragon\\xa0',\n",
       " 'Where the Wild Things Are\\xa0',\n",
       " 'Pan\\xa0',\n",
       " 'Epic\\xa0',\n",
       " 'The Tourist\\xa0',\n",
       " 'End of Days\\xa0',\n",
       " 'Blood Diamond\\xa0',\n",
       " 'The Wolf of Wall Street\\xa0',\n",
       " 'Batman Forever\\xa0',\n",
       " 'Starship Troopers\\xa0',\n",
       " 'Cloud Atlas\\xa0',\n",
       " \"Legend of the Guardians: The Owls of Ga'Hoole\\xa0\",\n",
       " 'Catwoman\\xa0',\n",
       " 'Hercules\\xa0',\n",
       " 'Treasure Planet\\xa0',\n",
       " 'Land of the Lost\\xa0',\n",
       " 'The Expendables 3\\xa0',\n",
       " 'Point Break\\xa0',\n",
       " 'Son of the Mask\\xa0',\n",
       " 'In the Heart of the Sea\\xa0',\n",
       " 'The Adventures of Pluto Nash\\xa0',\n",
       " 'Green Zone\\xa0',\n",
       " 'The Peanuts Movie\\xa0',\n",
       " 'The Spanish Prisoner\\xa0',\n",
       " 'The Mummy Returns\\xa0',\n",
       " 'Gangs of New York\\xa0',\n",
       " 'The Flowers of War\\xa0',\n",
       " \"Surf's Up\\xa0\",\n",
       " 'The Stepford Wives\\xa0',\n",
       " 'Black Hawk Down\\xa0',\n",
       " 'The Campaign\\xa0',\n",
       " 'The Fifth Element\\xa0',\n",
       " 'Sex and the City 2\\xa0',\n",
       " 'The Road to El Dorado\\xa0',\n",
       " 'Ice Age: Continental Drift\\xa0',\n",
       " 'Cinderella\\xa0',\n",
       " 'The Lovely Bones\\xa0',\n",
       " 'Finding Nemo\\xa0',\n",
       " 'The Lord of the Rings: The Return of the King\\xa0',\n",
       " 'The Lord of the Rings: The Two Towers\\xa0',\n",
       " 'Seventh Son\\xa0',\n",
       " 'Lara Croft: Tomb Raider\\xa0',\n",
       " 'Transcendence\\xa0',\n",
       " 'Jurassic Park III\\xa0',\n",
       " 'Rise of the Planet of the Apes\\xa0',\n",
       " 'The Spiderwick Chronicles\\xa0',\n",
       " 'A Good Day to Die Hard\\xa0',\n",
       " 'The Alamo\\xa0',\n",
       " 'The Incredibles\\xa0',\n",
       " 'Cutthroat Island\\xa0',\n",
       " 'Percy Jackson & the Olympians: The Lightning Thief\\xa0',\n",
       " 'Men in Black\\xa0',\n",
       " 'Toy Story 2\\xa0',\n",
       " 'Unstoppable\\xa0',\n",
       " 'Rush Hour 2\\xa0',\n",
       " 'What Lies Beneath\\xa0',\n",
       " 'Cloudy with a Chance of Meatballs\\xa0',\n",
       " 'Ice Age: Dawn of the Dinosaurs\\xa0',\n",
       " 'The Secret Life of Walter Mitty\\xa0',\n",
       " \"Charlie's Angels\\xa0\",\n",
       " 'The Departed\\xa0',\n",
       " 'Mulan\\xa0',\n",
       " 'Tropic Thunder\\xa0',\n",
       " 'The Girl with the Dragon Tattoo\\xa0',\n",
       " 'Die Hard with a Vengeance\\xa0',\n",
       " 'Sherlock Holmes\\xa0',\n",
       " 'Ben-Hur\\xa0',\n",
       " 'Atlantis: The Lost Empire\\xa0',\n",
       " 'Alvin and the Chipmunks: The Road Chip\\xa0',\n",
       " 'Valkyrie\\xa0',\n",
       " \"You Don't Mess with the Zohan\\xa0\",\n",
       " 'Pixels\\xa0',\n",
       " 'A.I. Artificial Intelligence\\xa0',\n",
       " 'The Haunted Mansion\\xa0',\n",
       " 'Contact\\xa0',\n",
       " 'Hollow Man\\xa0',\n",
       " 'The Interpreter\\xa0',\n",
       " 'Percy Jackson: Sea of Monsters\\xa0',\n",
       " 'Lara Croft Tomb Raider: The Cradle of Life\\xa0',\n",
       " 'Now You See Me 2\\xa0',\n",
       " 'The Saint\\xa0',\n",
       " 'Spy Game\\xa0',\n",
       " 'Mission to Mars\\xa0',\n",
       " 'Rio\\xa0',\n",
       " 'Bicentennial Man\\xa0',\n",
       " 'Volcano\\xa0',\n",
       " \"The Devil's Own\\xa0\",\n",
       " 'K-19: The Widowmaker\\xa0',\n",
       " 'Fantastic Four\\xa0',\n",
       " 'Conan the Barbarian\\xa0',\n",
       " 'Cinderella Man\\xa0',\n",
       " 'The Nutcracker in 3D\\xa0',\n",
       " 'Seabiscuit\\xa0',\n",
       " 'Twister\\xa0',\n",
       " 'The Fast and the Furious\\xa0',\n",
       " 'Cast Away\\xa0',\n",
       " 'Happy Feet\\xa0',\n",
       " 'The Bourne Supremacy\\xa0',\n",
       " 'Air Force One\\xa0',\n",
       " \"Ocean's Eleven\\xa0\",\n",
       " 'The Three Musketeers\\xa0',\n",
       " 'Hotel Transylvania\\xa0',\n",
       " 'Enchanted\\xa0',\n",
       " 'Hannibal\\xa0            ',\n",
       " 'Safe House\\xa0',\n",
       " '102 Dalmatians\\xa0',\n",
       " 'Tower Heist\\xa0',\n",
       " 'The Holiday\\xa0',\n",
       " 'Enemy of the State\\xa0',\n",
       " \"It's Complicated\\xa0\",\n",
       " \"Ocean's Thirteen\\xa0\",\n",
       " 'Open Season\\xa0',\n",
       " 'Divergent\\xa0',\n",
       " 'Enemy at the Gates\\xa0',\n",
       " 'The Rundown\\xa0',\n",
       " 'Last Action Hero\\xa0',\n",
       " 'Memoirs of a Geisha\\xa0',\n",
       " 'The Fast and the Furious: Tokyo Drift\\xa0',\n",
       " 'Arthur Christmas\\xa0',\n",
       " 'Meet Joe Black\\xa0',\n",
       " 'Collateral Damage\\xa0',\n",
       " 'All That Jazz\\xa0',\n",
       " 'Mirror Mirror\\xa0',\n",
       " 'Scott Pilgrim vs. the World\\xa0',\n",
       " 'The Core\\xa0',\n",
       " 'Nutty Professor II: The Klumps\\xa0',\n",
       " 'Scooby-Doo\\xa0',\n",
       " 'Dredd\\xa0',\n",
       " 'Click\\xa0',\n",
       " 'Creepshow\\xa0',\n",
       " 'Cats & Dogs: The Revenge of Kitty Galore\\xa0',\n",
       " 'Jumper\\xa0',\n",
       " 'Hellboy II: The Golden Army\\xa0',\n",
       " 'Zodiac\\xa0',\n",
       " 'The 6th Day\\xa0',\n",
       " 'Bruce Almighty\\xa0',\n",
       " 'The Expendables\\xa0',\n",
       " 'Mission: Impossible\\xa0',\n",
       " 'The Hunger Games\\xa0',\n",
       " 'The Hangover Part II\\xa0',\n",
       " 'Batman Returns\\xa0',\n",
       " 'Over the Hedge\\xa0',\n",
       " 'Lilo & Stitch\\xa0',\n",
       " \"Charlotte's Web\\xa0\",\n",
       " 'Deep Impact\\xa0',\n",
       " 'RED 2\\xa0',\n",
       " 'The Longest Yard\\xa0',\n",
       " 'Alvin and the Chipmunks: Chipwrecked\\xa0',\n",
       " 'Grown Ups 2\\xa0',\n",
       " 'Get Smart\\xa0',\n",
       " \"Something's Gotta Give\\xa0\",\n",
       " 'Shutter Island\\xa0',\n",
       " 'Four Christmases\\xa0',\n",
       " 'Robots\\xa0',\n",
       " 'Face/Off\\xa0',\n",
       " 'Bedtime Stories\\xa0',\n",
       " 'Road to Perdition\\xa0',\n",
       " 'Just Go with It\\xa0',\n",
       " 'Daredevil\\xa0            ',\n",
       " 'Con Air\\xa0',\n",
       " 'Eagle Eye\\xa0',\n",
       " 'Cold Mountain\\xa0',\n",
       " 'The Book of Eli\\xa0',\n",
       " 'Flubber\\xa0',\n",
       " 'The Haunting\\xa0',\n",
       " 'Space Jam\\xa0',\n",
       " 'The Pink Panther\\xa0',\n",
       " 'The Day the Earth Stood Still\\xa0',\n",
       " 'Conspiracy Theory\\xa0',\n",
       " 'Fury\\xa0',\n",
       " 'Six Days Seven Nights\\xa0',\n",
       " 'Yogi Bear\\xa0',\n",
       " 'Spirit: Stallion of the Cimarron\\xa0',\n",
       " 'Zookeeper\\xa0',\n",
       " 'Lost in Space\\xa0',\n",
       " 'The Manchurian Candidate\\xa0',\n",
       " 'Déjà Vu\\xa0',\n",
       " 'Hotel Transylvania 2\\xa0',\n",
       " 'Bewitched\\xa0            ',\n",
       " 'Fantasia 2000\\xa0',\n",
       " 'The Time Machine\\xa0',\n",
       " 'Mighty Joe Young\\xa0',\n",
       " 'Swordfish\\xa0',\n",
       " 'The Legend of Zorro\\xa0',\n",
       " 'What Dreams May Come\\xa0',\n",
       " 'Little Nicky\\xa0',\n",
       " 'The Brothers Grimm\\xa0',\n",
       " 'Mars Attacks!\\xa0',\n",
       " 'Evolution\\xa0',\n",
       " 'The Edge\\xa0',\n",
       " 'Surrogates\\xa0',\n",
       " 'Thirteen Days\\xa0',\n",
       " 'Daylight\\xa0',\n",
       " 'Walking with Dinosaurs 3D\\xa0',\n",
       " 'Battlefield Earth\\xa0',\n",
       " 'Looney Tunes: Back in Action\\xa0',\n",
       " 'Nine\\xa0',\n",
       " 'Timeline\\xa0',\n",
       " 'The Postman\\xa0',\n",
       " 'Babe: Pig in the City\\xa0',\n",
       " 'The Last Witch Hunter\\xa0',\n",
       " 'Red Planet\\xa0',\n",
       " 'Arthur and the Invisibles\\xa0',\n",
       " 'Oceans\\xa0',\n",
       " 'A Sound of Thunder\\xa0',\n",
       " 'Pompeii\\xa0',\n",
       " 'Top Cat Begins\\xa0',\n",
       " 'A Beautiful Mind\\xa0',\n",
       " 'The Lion King\\xa0',\n",
       " 'Journey 2: The Mysterious Island\\xa0',\n",
       " 'Cloudy with a Chance of Meatballs 2\\xa0',\n",
       " 'Red Dragon\\xa0',\n",
       " 'Hidalgo\\xa0',\n",
       " 'Jack and Jill\\xa0',\n",
       " '2 Fast 2 Furious\\xa0',\n",
       " 'The Little Prince\\xa0',\n",
       " 'The Invasion\\xa0',\n",
       " 'The Adventures of Rocky & Bullwinkle\\xa0',\n",
       " 'The Secret Life of Pets\\xa0',\n",
       " 'The League of Extraordinary Gentlemen\\xa0',\n",
       " 'Despicable Me 2\\xa0',\n",
       " 'Independence Day\\xa0',\n",
       " 'The Lost World: Jurassic Park\\xa0',\n",
       " 'Madagascar\\xa0',\n",
       " 'Children of Men\\xa0',\n",
       " 'X-Men\\xa0',\n",
       " 'Wanted\\xa0',\n",
       " 'The Rock\\xa0',\n",
       " 'Ice Age: The Meltdown\\xa0',\n",
       " '50 First Dates\\xa0',\n",
       " 'Hairspray\\xa0',\n",
       " 'Exorcist: The Beginning\\xa0',\n",
       " 'Inspector Gadget\\xa0',\n",
       " 'Now You See Me\\xa0',\n",
       " 'Grown Ups\\xa0',\n",
       " 'The Terminal\\xa0',\n",
       " 'Constantine\\xa0            ',\n",
       " 'Hotel for Dogs\\xa0',\n",
       " 'Vertical Limit\\xa0',\n",
       " \"Charlie Wilson's War\\xa0\",\n",
       " 'Shark Tale\\xa0',\n",
       " 'Dreamgirls\\xa0',\n",
       " 'Life\\xa0            ',\n",
       " 'Be Cool\\xa0',\n",
       " 'Munich\\xa0',\n",
       " 'Tears of the Sun\\xa0',\n",
       " 'Killers\\xa0',\n",
       " 'The Man from U.N.C.L.E.\\xa0',\n",
       " 'Spanglish\\xa0',\n",
       " 'Monster House\\xa0',\n",
       " 'Bandits\\xa0',\n",
       " 'First Knight\\xa0',\n",
       " 'Anna and the King\\xa0',\n",
       " 'Immortals\\xa0',\n",
       " 'Hostage\\xa0',\n",
       " 'Titan A.E.\\xa0',\n",
       " 'Hollywood Homicide\\xa0',\n",
       " 'Soldier\\xa0',\n",
       " 'Carriers\\xa0',\n",
       " 'Monkeybone\\xa0',\n",
       " 'Flight of the Phoenix\\xa0',\n",
       " 'Unbreakable\\xa0',\n",
       " 'Minions\\xa0',\n",
       " 'Sucker Punch\\xa0',\n",
       " 'Snake Eyes\\xa0',\n",
       " 'Sphere\\xa0',\n",
       " 'The Angry Birds Movie\\xa0',\n",
       " \"Fool's Gold\\xa0\",\n",
       " 'Funny People\\xa0',\n",
       " 'The Kingdom\\xa0',\n",
       " 'Talladega Nights: The Ballad of Ricky Bobby\\xa0',\n",
       " 'Dr. Dolittle 2\\xa0',\n",
       " 'Braveheart\\xa0',\n",
       " 'Jarhead\\xa0',\n",
       " 'The Simpsons Movie\\xa0',\n",
       " 'The Majestic\\xa0',\n",
       " 'Driven\\xa0',\n",
       " 'Two Brothers\\xa0',\n",
       " 'The Village\\xa0',\n",
       " 'Doctor Dolittle\\xa0',\n",
       " 'Signs\\xa0',\n",
       " 'Shrek 2\\xa0',\n",
       " 'Cars\\xa0',\n",
       " 'Runaway Bride\\xa0',\n",
       " 'xXx\\xa0',\n",
       " 'The SpongeBob Movie: Sponge Out of Water\\xa0',\n",
       " 'Ransom\\xa0',\n",
       " 'Inglourious Basterds\\xa0',\n",
       " 'Hook\\xa0',\n",
       " 'Hercules\\xa0',\n",
       " 'Die Hard 2\\xa0',\n",
       " 'S.W.A.T.\\xa0',\n",
       " 'Sleepy Hollow\\xa0            ',\n",
       " 'Vanilla Sky\\xa0',\n",
       " 'Lady in the Water\\xa0',\n",
       " 'AVP: Alien vs. Predator\\xa0',\n",
       " 'Alvin and the Chipmunks: The Squeakquel\\xa0',\n",
       " 'We Were Soldiers\\xa0',\n",
       " 'Olympus Has Fallen\\xa0',\n",
       " 'Star Trek: Insurrection\\xa0',\n",
       " 'Battle Los Angeles\\xa0',\n",
       " 'Big Fish\\xa0',\n",
       " 'Wolf\\xa0',\n",
       " 'War Horse\\xa0',\n",
       " 'The Monuments Men\\xa0',\n",
       " 'The Abyss\\xa0',\n",
       " 'Wall Street: Money Never Sleeps\\xa0',\n",
       " 'Dracula Untold\\xa0',\n",
       " 'The Siege\\xa0',\n",
       " 'Stardust\\xa0',\n",
       " 'Seven Years in Tibet\\xa0',\n",
       " 'The Dilemma\\xa0',\n",
       " 'Bad Company\\xa0',\n",
       " 'Doom\\xa0',\n",
       " 'I Spy\\xa0',\n",
       " 'Underworld: Awakening\\xa0',\n",
       " 'Rock of Ages\\xa0',\n",
       " \"Hart's War\\xa0\",\n",
       " 'Killer Elite\\xa0',\n",
       " 'Rollerball\\xa0',\n",
       " 'Ballistic: Ecks vs. Sever\\xa0',\n",
       " 'Hard Rain\\xa0',\n",
       " 'Osmosis Jones\\xa0',\n",
       " \"Legends of Oz: Dorothy's Return\\xa0\",\n",
       " 'Blackhat\\xa0',\n",
       " 'Sky Captain and the World of Tomorrow\\xa0',\n",
       " 'Basic Instinct 2\\xa0',\n",
       " 'Escape Plan\\xa0',\n",
       " 'The Legend of Hercules\\xa0',\n",
       " 'The Sum of All Fears\\xa0',\n",
       " 'The Twilight Saga: Eclipse\\xa0',\n",
       " 'The Score\\xa0',\n",
       " 'Despicable Me\\xa0',\n",
       " 'Money Train\\xa0',\n",
       " 'Ted 2\\xa0',\n",
       " 'Agora\\xa0',\n",
       " 'Mystery Men\\xa0',\n",
       " 'Hall Pass\\xa0',\n",
       " 'The Insider\\xa0',\n",
       " 'The Finest Hours\\xa0',\n",
       " 'Body of Lies\\xa0',\n",
       " 'Dinner for Schmucks\\xa0',\n",
       " 'Abraham Lincoln: Vampire Hunter\\xa0',\n",
       " 'Entrapment\\xa0',\n",
       " 'Last Man Standing\\xa0            ',\n",
       " 'The X Files\\xa0',\n",
       " 'The Last Legion\\xa0',\n",
       " 'Saving Private Ryan\\xa0',\n",
       " 'Need for Speed\\xa0',\n",
       " 'What Women Want\\xa0',\n",
       " 'Ice Age\\xa0',\n",
       " 'Dreamcatcher\\xa0',\n",
       " 'Lincoln\\xa0',\n",
       " 'The Matrix\\xa0',\n",
       " 'Apollo 13\\xa0',\n",
       " 'Total Recall\\xa0',\n",
       " 'The Santa Clause 2\\xa0',\n",
       " 'Les Misérables\\xa0',\n",
       " \"You've Got Mail\\xa0\",\n",
       " 'Step Brothers\\xa0',\n",
       " 'The Mask of Zorro\\xa0',\n",
       " 'Due Date\\xa0',\n",
       " 'Unbroken\\xa0',\n",
       " 'Space Cowboys\\xa0',\n",
       " 'Cliffhanger\\xa0',\n",
       " 'Broken Arrow\\xa0',\n",
       " 'The Kid\\xa0',\n",
       " 'World Trade Center\\xa0',\n",
       " 'Mona Lisa Smile\\xa0',\n",
       " 'The Dictator\\xa0',\n",
       " 'Eyes Wide Shut\\xa0',\n",
       " 'Annie\\xa0',\n",
       " 'Focus\\xa0',\n",
       " 'This Means War\\xa0',\n",
       " 'Blade: Trinity\\xa0',\n",
       " 'Red Dawn\\xa0',\n",
       " 'Primary Colors\\xa0',\n",
       " 'Resident Evil: Retribution\\xa0',\n",
       " 'Death Race\\xa0',\n",
       " 'The Long Kiss Goodnight\\xa0',\n",
       " 'Proof of Life\\xa0',\n",
       " 'Zathura: A Space Adventure\\xa0',\n",
       " 'Fight Club\\xa0',\n",
       " 'We Are Marshall\\xa0',\n",
       " 'The Missing\\xa0            ',\n",
       " 'Hudson Hawk\\xa0',\n",
       " 'Lucky Numbers\\xa0',\n",
       " 'I, Frankenstein\\xa0',\n",
       " 'Oliver Twist\\xa0',\n",
       " 'Elektra\\xa0',\n",
       " 'Sin City: A Dame to Kill For\\xa0',\n",
       " 'Random Hearts\\xa0',\n",
       " 'Everest\\xa0',\n",
       " 'Perfume: The Story of a Murderer\\xa0',\n",
       " 'Austin Powers in Goldmember\\xa0',\n",
       " 'Astro Boy\\xa0',\n",
       " 'Jurassic Park\\xa0',\n",
       " 'Wyatt Earp\\xa0',\n",
       " 'Clear and Present Danger\\xa0',\n",
       " 'Dragon Blade\\xa0',\n",
       " 'Littleman\\xa0',\n",
       " 'U-571\\xa0',\n",
       " 'The American President\\xa0',\n",
       " 'The Love Guru\\xa0',\n",
       " '3000 Miles to Graceland\\xa0',\n",
       " 'The Hateful Eight\\xa0',\n",
       " 'Blades of Glory\\xa0',\n",
       " 'Hop\\xa0',\n",
       " '300\\xa0',\n",
       " 'Meet the Fockers\\xa0',\n",
       " 'Marley & Me\\xa0',\n",
       " 'The Green Mile\\xa0',\n",
       " 'Wild Hogs\\xa0',\n",
       " 'Chicken Little\\xa0',\n",
       " 'Gone Girl\\xa0',\n",
       " 'The Bourne Identity\\xa0',\n",
       " 'GoldenEye\\xa0',\n",
       " \"The General's Daughter\\xa0\",\n",
       " 'The Truman Show\\xa0',\n",
       " 'The Prince of Egypt\\xa0',\n",
       " 'Daddy Day Care\\xa0',\n",
       " '2 Guns\\xa0',\n",
       " 'Cats & Dogs\\xa0',\n",
       " 'The Italian Job\\xa0',\n",
       " 'Two Weeks Notice\\xa0',\n",
       " 'Antz\\xa0',\n",
       " 'Couples Retreat\\xa0',\n",
       " 'Days of Thunder\\xa0',\n",
       " 'Cheaper by the Dozen 2\\xa0',\n",
       " 'The Scorch Trials\\xa0',\n",
       " 'Eat Pray Love\\xa0',\n",
       " 'The Family Man\\xa0',\n",
       " 'RED\\xa0',\n",
       " 'Any Given Sunday\\xa0',\n",
       " 'The Horse Whisperer\\xa0',\n",
       " 'Collateral\\xa0',\n",
       " 'The Scorpion King\\xa0',\n",
       " 'Ladder 49\\xa0',\n",
       " 'Jack Reacher\\xa0',\n",
       " 'Deep Blue Sea\\xa0',\n",
       " 'This Is It\\xa0',\n",
       " 'Contagion\\xa0',\n",
       " 'Kangaroo Jack\\xa0',\n",
       " 'Coraline\\xa0',\n",
       " 'The Happening\\xa0',\n",
       " 'Man on Fire\\xa0',\n",
       " 'The Shaggy Dog\\xa0',\n",
       " 'Starsky & Hutch\\xa0',\n",
       " 'Jingle All the Way\\xa0',\n",
       " 'Hellboy\\xa0',\n",
       " 'A Civil Action\\xa0',\n",
       " 'ParaNorman\\xa0',\n",
       " 'The Jackal\\xa0',\n",
       " 'Paycheck\\xa0',\n",
       " 'Up Close & Personal\\xa0',\n",
       " 'The Tale of Despereaux\\xa0',\n",
       " 'Rules of Engagement\\xa0            ',\n",
       " 'The Tuxedo\\xa0',\n",
       " 'Under Siege 2: Dark Territory\\xa0',\n",
       " 'Jack Ryan: Shadow Recruit\\xa0',\n",
       " 'Joy\\xa0',\n",
       " 'London Has Fallen\\xa0',\n",
       " 'Alien: Resurrection\\xa0',\n",
       " 'Shooter\\xa0',\n",
       " 'The Boxtrolls\\xa0',\n",
       " 'Practical Magic\\xa0',\n",
       " 'The Lego Movie\\xa0',\n",
       " 'Miss Congeniality 2: Armed and Fabulous\\xa0',\n",
       " 'Reign of Fire\\xa0',\n",
       " 'Gangster Squad\\xa0',\n",
       " 'Year One\\xa0',\n",
       " 'Invictus\\xa0',\n",
       " 'State of Play\\xa0',\n",
       " 'Duplicity\\xa0',\n",
       " 'My Favorite Martian\\xa0',\n",
       " 'The Sentinel\\xa0',\n",
       " 'Planet 51\\xa0',\n",
       " 'Star Trek: Nemesis\\xa0',\n",
       " 'Intolerable Cruelty\\xa0',\n",
       " 'Trouble with the Curve\\xa0',\n",
       " 'Edge of Darkness\\xa0',\n",
       " 'The Relic\\xa0',\n",
       " 'Analyze That\\xa0',\n",
       " 'Righteous Kill\\xa0',\n",
       " 'Mercury Rising\\xa0',\n",
       " 'The Soloist\\xa0',\n",
       " 'The Legend of Bagger Vance\\xa0',\n",
       " 'Almost Famous\\xa0',\n",
       " 'Garfield 2\\xa0',\n",
       " 'xXx: State of the Union\\xa0',\n",
       " 'Priest\\xa0',\n",
       " 'Sinbad: Legend of the Seven Seas\\xa0',\n",
       " 'Event Horizon\\xa0',\n",
       " 'The Avengers\\xa0',\n",
       " 'Dragonfly\\xa0',\n",
       " 'The Black Dahlia\\xa0',\n",
       " 'Flyboys\\xa0',\n",
       " 'The Last Castle\\xa0',\n",
       " 'Supernova\\xa0',\n",
       " \"Winter's Tale\\xa0\",\n",
       " 'The Mortal Instruments: City of Bones\\xa0',\n",
       " 'Meet Dave\\xa0',\n",
       " 'Dark Water\\xa0',\n",
       " 'Edtv\\xa0',\n",
       " 'Inkheart\\xa0',\n",
       " 'The Spirit\\xa0',\n",
       " 'Mortdecai\\xa0',\n",
       " 'In the Name of the King: A Dungeon Siege Tale\\xa0',\n",
       " 'Beyond Borders\\xa0',\n",
       " 'Xi you ji zhi: Sun Wukong san da Baigu Jing\\xa0',\n",
       " 'The Great Raid\\xa0',\n",
       " 'Deadpool\\xa0',\n",
       " 'Holy Man\\xa0',\n",
       " 'American Sniper\\xa0',\n",
       " 'Goosebumps\\xa0',\n",
       " 'Sabrina, the Teenage Witch\\xa0            ',\n",
       " 'Just Like Heaven\\xa0',\n",
       " 'The Flintstones in Viva Rock Vegas\\xa0',\n",
       " 'Rambo III\\xa0',\n",
       " 'Leatherheads\\xa0',\n",
       " 'The Ridiculous 6\\xa0',\n",
       " 'Did You Hear About the Morgans?\\xa0',\n",
       " 'The Internship\\xa0',\n",
       " 'Resident Evil: Afterlife\\xa0',\n",
       " 'Red Tails\\xa0',\n",
       " 'Sex and the City\\xa0            ',\n",
       " \"The Devil's Advocate\\xa0\",\n",
       " \"That's My Boy\\xa0\",\n",
       " 'DragonHeart\\xa0',\n",
       " 'After the Sunset\\xa0',\n",
       " 'Ghost Rider: Spirit of Vengeance\\xa0',\n",
       " \"Captain Corelli's Mandolin\\xa0\",\n",
       " 'Anger Management\\xa0            ',\n",
       " 'The Pacifier\\xa0',\n",
       " 'Walking Tall\\xa0',\n",
       " 'Forrest Gump\\xa0',\n",
       " 'Alvin and the Chipmunks\\xa0',\n",
       " 'Meet the Parents\\xa0',\n",
       " 'Pocahontas\\xa0',\n",
       " 'Superman\\xa0',\n",
       " 'The Nutty Professor\\xa0',\n",
       " 'Hitch\\xa0',\n",
       " 'George of the Jungle\\xa0',\n",
       " 'American Wedding\\xa0',\n",
       " 'Captain Phillips\\xa0',\n",
       " 'Date Night\\xa0',\n",
       " 'Casper\\xa0',\n",
       " 'The Equalizer\\xa0',\n",
       " 'Maid in Manhattan\\xa0',\n",
       " 'Crimson Tide\\xa0',\n",
       " 'The Pursuit of Happyness\\xa0',\n",
       " 'Flightplan\\xa0',\n",
       " 'Disclosure\\xa0',\n",
       " 'City of Angels\\xa0',\n",
       " 'Kill Bill: Vol. 1\\xa0',\n",
       " 'Bowfinger\\xa0',\n",
       " 'Stargate SG-1\\xa0            ',\n",
       " 'Kill Bill: Vol. 2\\xa0',\n",
       " 'Tango & Cash\\xa0',\n",
       " 'Death Becomes Her\\xa0',\n",
       " 'Shanghai Noon\\xa0',\n",
       " 'Executive Decision\\xa0',\n",
       " \"Mr. Popper's Penguins\\xa0\",\n",
       " 'The Forbidden Kingdom\\xa0',\n",
       " 'Free Birds\\xa0',\n",
       " 'Alien 3\\xa0',\n",
       " 'Evita\\xa0',\n",
       " 'Ronin\\xa0',\n",
       " 'The Ghost and the Darkness\\xa0',\n",
       " 'Paddington\\xa0',\n",
       " 'The Watch\\xa0',\n",
       " 'The Hunted\\xa0',\n",
       " 'Instinct\\xa0',\n",
       " 'Stuck on You\\xa0',\n",
       " 'Semi-Pro\\xa0',\n",
       " 'The Pirates! Band of Misfits\\xa0',\n",
       " 'Changeling\\xa0',\n",
       " 'Chain Reaction\\xa0',\n",
       " 'The Fan\\xa0',\n",
       " 'The Phantom of the Opera\\xa0',\n",
       " 'Elizabeth: The Golden Age\\xa0',\n",
       " 'Æon Flux\\xa0',\n",
       " 'Gods and Generals\\xa0',\n",
       " 'Turbulence\\xa0',\n",
       " 'Imagine That\\xa0',\n",
       " 'Muppets Most Wanted\\xa0',\n",
       " 'Thunderbirds\\xa0',\n",
       " 'Burlesque\\xa0',\n",
       " 'A Very Long Engagement\\xa0',\n",
       " 'Lolita\\xa0',\n",
       " 'Eye See You\\xa0',\n",
       " 'Blade II\\xa0',\n",
       " 'Seven Pounds\\xa0',\n",
       " 'Bullet to the Head\\xa0',\n",
       " 'The Godfather: Part III\\xa0',\n",
       " 'Elizabethtown\\xa0',\n",
       " 'You, Me and Dupree\\xa0',\n",
       " 'Superman II\\xa0',\n",
       " 'Gigli\\xa0',\n",
       " \"All the King's Men\\xa0\",\n",
       " 'Shaft\\xa0',\n",
       " 'Anastasia\\xa0',\n",
       " 'Moulin Rouge!\\xa0',\n",
       " 'Domestic Disturbance\\xa0',\n",
       " 'Black Mass\\xa0',\n",
       " 'Flags of Our Fathers\\xa0',\n",
       " 'Law Abiding Citizen\\xa0',\n",
       " 'Grindhouse\\xa0',\n",
       " 'Beloved\\xa0',\n",
       " 'Lucky You\\xa0',\n",
       " 'Catch Me If You Can\\xa0',\n",
       " 'Zero Dark Thirty\\xa0',\n",
       " 'The Break-Up\\xa0',\n",
       " 'Mamma Mia!\\xa0',\n",
       " \"Valentine's Day\\xa0\",\n",
       " 'The Dukes of Hazzard\\xa0',\n",
       " 'The Thin Red Line\\xa0',\n",
       " 'The Change-Up\\xa0',\n",
       " 'Man on the Moon\\xa0',\n",
       " 'Casino\\xa0',\n",
       " 'From Paris with Love\\xa0',\n",
       " 'Bulletproof Monk\\xa0',\n",
       " 'Me, Myself & Irene\\xa0',\n",
       " 'Barnyard\\xa0',\n",
       " 'Deck the Halls\\xa0',\n",
       " 'The Twilight Saga: New Moon\\xa0',\n",
       " 'Shrek\\xa0',\n",
       " 'The Adjustment Bureau\\xa0',\n",
       " 'Robin Hood: Prince of Thieves\\xa0',\n",
       " 'Jerry Maguire\\xa0',\n",
       " 'Ted\\xa0',\n",
       " 'As Good as It Gets\\xa0',\n",
       " 'Patch Adams\\xa0',\n",
       " 'Anchorman 2: The Legend Continues\\xa0',\n",
       " 'Mr. Deeds\\xa0',\n",
       " 'Super 8\\xa0',\n",
       " 'Erin Brockovich\\xa0',\n",
       " 'How to Lose a Guy in 10 Days\\xa0',\n",
       " '22 Jump Street\\xa0',\n",
       " 'Interview with the Vampire: The Vampire Chronicles\\xa0',\n",
       " 'Yes Man\\xa0',\n",
       " 'Central Intelligence\\xa0',\n",
       " 'Stepmom\\xa0',\n",
       " \"Daddy's Home\\xa0\",\n",
       " 'Into the Woods\\xa0',\n",
       " 'Inside Man\\xa0',\n",
       " 'Payback\\xa0',\n",
       " 'Congo\\xa0',\n",
       " 'We Bought a Zoo\\xa0',\n",
       " 'Knowing\\xa0',\n",
       " 'Failure to Launch\\xa0',\n",
       " 'The Ring Two\\xa0',\n",
       " 'Crazy, Stupid, Love.\\xa0',\n",
       " 'Garfield\\xa0',\n",
       " 'Christmas with the Kranks\\xa0',\n",
       " 'Moneyball\\xa0',\n",
       " 'Outbreak\\xa0',\n",
       " 'Non-Stop\\xa0',\n",
       " 'Race to Witch Mountain\\xa0',\n",
       " 'V for Vendetta\\xa0',\n",
       " 'Shanghai Knights\\xa0',\n",
       " 'Unforgotten\\xa0            ',\n",
       " 'Curious George\\xa0',\n",
       " 'Herbie Fully Loaded\\xa0',\n",
       " \"Don't Say a Word\\xa0\",\n",
       " 'Hansel & Gretel: Witch Hunters\\xa0',\n",
       " 'Unfaithful\\xa0',\n",
       " 'I Am Number Four\\xa0',\n",
       " 'Syriana\\xa0',\n",
       " '13 Hours\\xa0',\n",
       " 'The Book of Life\\xa0',\n",
       " 'Firewall\\xa0',\n",
       " 'Absolute Power\\xa0',\n",
       " 'G.I. Jane\\xa0',\n",
       " 'The Game\\xa0',\n",
       " 'Silent Hill\\xa0',\n",
       " 'The Replacements\\xa0',\n",
       " 'American Reunion\\xa0',\n",
       " 'The Negotiator\\xa0',\n",
       " 'Into the Storm\\xa0',\n",
       " 'Beverly Hills Cop III\\xa0',\n",
       " 'Gremlins 2: The New Batch\\xa0',\n",
       " 'The Judge\\xa0',\n",
       " 'The Peacemaker\\xa0',\n",
       " 'Resident Evil: Apocalypse\\xa0',\n",
       " 'Bridget Jones: The Edge of Reason\\xa0',\n",
       " 'Out of Time\\xa0',\n",
       " 'On Deadly Ground\\xa0',\n",
       " 'The Adventures of Sharkboy and Lavagirl 3-D\\xa0',\n",
       " 'The Beach\\xa0',\n",
       " 'Raising Helen\\xa0',\n",
       " 'Ninja Assassin\\xa0',\n",
       " 'For Love of the Game\\xa0',\n",
       " 'A Touch of Frost\\xa0            ',\n",
       " 'Striptease\\xa0',\n",
       " 'Marmaduke\\xa0',\n",
       " 'Hereafter\\xa0',\n",
       " 'Murder by Numbers\\xa0',\n",
       " 'Assassins\\xa0',\n",
       " ...]"
      ]
     },
     "execution_count": 112,
     "metadata": {},
     "output_type": "execute_result"
    }
   ],
   "source": [
    "titles=list((df.get('movie_title')))\n",
    "titles"
   ]
  },
  {
   "cell_type": "code",
   "execution_count": 116,
   "metadata": {},
   "outputs": [
    {
     "name": "stdout",
     "output_type": "stream",
     "text": [
      "{7: 138, 41: 17, 8: 226, 22: 138, 55: 3, 12: 330, 13: 306, 24: 85, 39: 13, 35: 30, 17: 239, 18: 219, 43: 8, 16: 264, 44: 9, 15: 284, 42: 14, 23: 109, 11: 328, 36: 21, 19: 213, 10: 294, 27: 69, 20: 176, 32: 43, 26: 74, 25: 82, 14: 274, 21: 138, 31: 47, 51: 5, 6: 139, 5: 91, 63: 1, 3: 8, 9: 267, 38: 24, 28: 51, 29: 65, 34: 31, 57: 1, 47: 4, 4: 35, 37: 18, 48: 4, 46: 7, 40: 14, 45: 4, 49: 4, 50: 3, 30: 36, 33: 21, 2: 5, 59: 2, 60: 1, 56: 1, 84: 1, 54: 2, 87: 1, 53: 2, 72: 1, 69: 1, 80: 1, 67: 1}\n"
     ]
    }
   ],
   "source": [
    "freq_title={}\n",
    "\n",
    "for t in titles:\n",
    "    length=len(t)\n",
    "    #using try except in place of if-else\n",
    "    try:\n",
    "        freq_title[length]+=1\n",
    "    except:\n",
    "        freq_title[length]=1\n",
    "print(freq_title)        "
   ]
  },
  {
   "cell_type": "code",
   "execution_count": 117,
   "metadata": {},
   "outputs": [],
   "source": [
    "x=np.array(list(freq_title.keys()))\n",
    "y=np.array(list(freq_title.values()))"
   ]
  },
  {
   "cell_type": "code",
   "execution_count": 118,
   "metadata": {
    "scrolled": true
   },
   "outputs": [
    {
     "data": {
      "image/png": "[encoded data removed]",
      "text/plain": [
       "<Figure size 432x288 with 1 Axes>"
      ]
     },
     "metadata": {
      "needs_background": "light"
     },
     "output_type": "display_data"
    }
   ],
   "source": [
    "plt.scatter(x,y)\n",
    "plt.xlabel(\"Movie title\")\n",
    "label(\"No of movies\")\n",
    "plt.show()"
   ]
  },
  {
   "cell_type": "code",
   "execution_count": 119,
   "metadata": {},
   "outputs": [
    {
     "name": "stdout",
     "output_type": "stream",
     "text": [
      "2\n",
      "(2, 4)\n",
      "int32\n"
     ]
    }
   ],
   "source": [
    "series = [[23,45,12,679], [14,48,69,38]]\n",
    "\n",
    "new_series = np.array(series)\n",
    "\n",
    "print (new_series.ndim)\n",
    "\n",
    "print (new_series.shape)\n",
    "\n",
    "print (new_series.dtype)"
   ]
  },
  {
   "cell_type": "code",
   "execution_count": null,
   "metadata": {},
   "outputs": [],
   "source": []
  }
 ],
 "metadata": {
  "kernelspec": {
   "display_name": "Python 3",
   "language": "python",
   "name": "python3"
  },
  "language_info": {
   "codemirror_mode": {
    "name": "ipython",
    "version": 3
   },
   "file_extension": ".py",
   "mimetype": "text/x-python",
   "name": "python",
   "nbconvert_exporter": "python",
   "pygments_lexer": "ipython3",
   "version": "3.7.3"
  }
 },
 "nbformat": 4,
 "nbformat_minor": 2
}
