{
 "cells": [
  {
   "cell_type": "code",
   "execution_count": 2,
   "metadata": {},
   "outputs": [
    {
     "name": "stdout",
     "output_type": "stream",
     "text": [
      "knock knock knock penny\n",
      "knock knock knock penny\n",
      "knock knock knock penny\n"
     ]
    }
   ],
   "source": [
    "#passing arguments\n",
    "def sheldon_knock(name):\n",
    "    print(\"knock knock knock {}\".format(name))\n",
    "    print(\"knock knock knock {}\".format(name))\n",
    "    print(\"knock knock knock {}\".format(name))\n",
    "sheldon_knock(\"penny\")"
   ]
  },
  {
   "cell_type": "code",
   "execution_count": 6,
   "metadata": {},
   "outputs": [
    {
     "name": "stdout",
     "output_type": "stream",
     "text": [
      "knock knock knock penny\n",
      "knock knock knock penny\n",
      "knock knock knock penny\n"
     ]
    }
   ],
   "source": [
    "#passing arguments\n",
    "def sheldon_knock(name, number_of_time = 3):\n",
    "    for i in range(number_of_time):\n",
    "        print(\"knock knock knock {}\".format(name))\n",
    "    \n",
    "sheldon_knock(\"penny\")"
   ]
  },
  {
   "cell_type": "code",
   "execution_count": 8,
   "metadata": {},
   "outputs": [
    {
     "name": "stdout",
     "output_type": "stream",
     "text": [
      "knock knock knock penny\n",
      "knock knock knock penny\n",
      "knock knock knock penny\n",
      "knock knock knock penny\n",
      "knock knock knock penny\n"
     ]
    }
   ],
   "source": [
    "#but if we explicitly specify number of times, then the default parameter \n",
    "#gets overloaded\n",
    "sheldon_knock(\"penny\", 5)"
   ]
  },
  {
   "cell_type": "markdown",
   "metadata": {},
   "source": [
    "## return statement"
   ]
  },
  {
   "cell_type": "code",
   "execution_count": 9,
   "metadata": {},
   "outputs": [
    {
     "name": "stdout",
     "output_type": "stream",
     "text": [
      "5\n"
     ]
    }
   ],
   "source": [
    "def add(a,b):\n",
    "    return a+b\n",
    "x = add(2,3)\n",
    "print(x)"
   ]
  },
  {
   "cell_type": "markdown",
   "metadata": {},
   "source": [
    "## packing arguments"
   ]
  },
  {
   "cell_type": "code",
   "execution_count": 17,
   "metadata": {},
   "outputs": [],
   "source": [
    "def show(*args):\n",
    "    print(args)"
   ]
  },
  {
   "cell_type": "code",
   "execution_count": 18,
   "metadata": {},
   "outputs": [
    {
     "name": "stdout",
     "output_type": "stream",
     "text": [
      "(1, 2, 3, 'vivek', 'kuamr')\n"
     ]
    }
   ],
   "source": [
    "#we can now give any number of arguments as the  \n",
    "show(1,2,3, \"vivek\",\"kuamr\")"
   ]
  },
  {
   "cell_type": "code",
   "execution_count": 19,
   "metadata": {},
   "outputs": [],
   "source": [
    "def show(a,b,*args):\n",
    "    print(args)"
   ]
  },
  {
   "cell_type": "code",
   "execution_count": 20,
   "metadata": {},
   "outputs": [
    {
     "name": "stdout",
     "output_type": "stream",
     "text": [
      "('vivek', 'kumar')\n"
     ]
    }
   ],
   "source": [
    "#now show() func will accept min of 3 arguments\n",
    "show(5,6,\"vivek\",\"kumar\")"
   ]
  },
  {
   "cell_type": "code",
   "execution_count": 24,
   "metadata": {},
   "outputs": [],
   "source": [
    "#kwargs\n",
    "def show(a,b,c, *args, d=5, e=6, **kwargs):\n",
    "    print(b)\n",
    "    print(args)\n",
    "    print(d,e)\n",
    "    print(kwargs)"
   ]
  },
  {
   "cell_type": "code",
   "execution_count": 27,
   "metadata": {},
   "outputs": [
    {
     "name": "stdout",
     "output_type": "stream",
     "text": [
      "2\n",
      "('Munna', 'Bhaiya')\n",
      "5 6\n",
      "{'id': 'freakfan15'}\n"
     ]
    }
   ],
   "source": [
    "show(1,2,3,\"Munna\", \"Bhaiya\", id=\"freakfan15\")"
   ]
  },
  {
   "cell_type": "markdown",
   "metadata": {},
   "source": [
    "## Decorators"
   ]
  },
  {
   "cell_type": "code",
   "execution_count": 1,
   "metadata": {},
   "outputs": [],
   "source": [
    "users = {\n",
    "    \"vivek\":\"cpp\",\n",
    "    \"others\":\"python\"\n",
    "}\n"
   ]
  },
  {
   "cell_type": "code",
   "execution_count": 3,
   "metadata": {},
   "outputs": [],
   "source": [
    "def show(username, password):\n",
    "    if username in users and users[username]==password:\n",
    "        print(\"Welcome\")\n",
    "    else:\n",
    "        print(\"Not authenticated\")\n"
   ]
  },
  {
   "cell_type": "code",
   "execution_count": 9,
   "metadata": {},
   "outputs": [
    {
     "name": "stdout",
     "output_type": "stream",
     "text": [
      "Welcome\n"
     ]
    }
   ],
   "source": [
    "show(\"vivek\", \"cpp\")"
   ]
  },
  {
   "cell_type": "code",
   "execution_count": null,
   "metadata": {},
   "outputs": [],
   "source": []
  }
 ],
 "metadata": {
  "kernelspec": {
   "display_name": "Python 3",
   "language": "python",
   "name": "python3"
  },
  "language_info": {
   "codemirror_mode": {
    "name": "ipython",
    "version": 3
   },
   "file_extension": ".py",
   "mimetype": "text/x-python",
   "name": "python",
   "nbconvert_exporter": "python",
   "pygments_lexer": "ipython3",
   "version": "3.7.3"
  }
 },
 "nbformat": 4,
 "nbformat_minor": 2
}
